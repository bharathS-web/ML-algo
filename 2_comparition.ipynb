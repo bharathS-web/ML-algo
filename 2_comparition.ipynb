{
 "cells": [
  {
   "cell_type": "markdown",
   "metadata": {},
   "source": [
    "Comparition Between :/n Naive Bayes, Random Forest, SVM, Logistic Regression"
   ]
  },
  {
   "cell_type": "code",
   "execution_count": 1,
   "metadata": {},
   "outputs": [],
   "source": [
    "import pandas as pd\n",
    "from scipy.io import arff\n",
    "from sklearn.model_selection import train_test_split\n",
    "from sklearn.naive_bayes import GaussianNB\n",
    "from sklearn.ensemble import RandomForestClassifier\n",
    "from sklearn.svm import SVC\n",
    "from sklearn.linear_model import LogisticRegression\n",
    "from sklearn.metrics import accuracy_score, precision_score\n",
    "from sklearn.preprocessing import StandardScaler"
   ]
  },
  {
   "cell_type": "code",
   "execution_count": 2,
   "metadata": {},
   "outputs": [],
   "source": [
    "scaler = StandardScaler()\n",
    "\n",
    "nb_model = GaussianNB()\n",
    "rf_model = RandomForestClassifier(n_estimators=100, random_state=42)\n",
    "svm_model = SVC(kernel='rbf', random_state=42)\n",
    "lr_model = LogisticRegression(random_state=42)\n"
   ]
  },
  {
   "cell_type": "code",
   "execution_count": 3,
   "metadata": {},
   "outputs": [],
   "source": [
    "def result(dataset_name,y_test,y_pred_nb,y_pred_rf,y_pred_svm,y_pred_lr,pos_label):\n",
    "        result =   pd.DataFrame(  {\n",
    "    'Model': ['Naive Bayes', 'Random Forest', 'SVM', 'Logistic Regression'],\n",
    "    'Accuracy': [accuracy_score(y_test, y_pred_nb),\n",
    "                 accuracy_score(y_test, y_pred_rf),\n",
    "                 accuracy_score(y_test, y_pred_svm),\n",
    "                 accuracy_score(y_test, y_pred_lr)],\n",
    "    'Precision': [precision_score(y_test, y_pred_nb  ,pos_label=pos_label),\n",
    "                  precision_score(y_test, y_pred_rf  ,pos_label=pos_label),\n",
    "                  precision_score(y_test, y_pred_svm ,pos_label=pos_label),\n",
    "                  precision_score(y_test, y_pred_lr  ,pos_label=pos_label)]\n",
    "}\n",
    "        )\n",
    "        print(dataset_name +\"Dataset Results:\")\n",
    "        print(result)\n",
    "\n",
    "        # Determine the best model based on Accuracy\n",
    "        best_accuracy_model = result.loc[result['Accuracy'].idxmax()]\n",
    "\n",
    "        best_precision_model = result.loc[result['Precision'].idxmax()]\n",
    "\n",
    "        # Display the best models\n",
    "        print(\"\\nBest Model based on Accuracy:\")\n",
    "        print(best_accuracy_model)\n",
    "\n",
    "        print(\"\\nBest Model based on Precision:\")\n",
    "        print(best_precision_model)\n"
   ]
  },
  {
   "cell_type": "code",
   "execution_count": 4,
   "metadata": {},
   "outputs": [],
   "source": [
    "\n",
    "data_rice = arff.loadarff('Rice_Cammeo_Osmancik.arff')\n",
    "rice_df = pd.DataFrame(data_rice[0])\n",
    "\n",
    "# Convert byte strings to regular strings (if necessary)\n",
    "rice_df['Class'] = rice_df['Class'].str.decode('utf-8')\n",
    "\n",
    "# Define features and target\n",
    "X_rice = rice_df.drop(columns=['Class'])\n",
    "y_rice = rice_df['Class']\n",
    "\n",
    "# Split the dataset\n",
    "X_train, X_test, y_train, y_test = train_test_split(X_rice, y_rice, test_size=0.3, random_state=42)\n",
    "\n",
    "# Standardize the dataset\n",
    "\n",
    "X_train = scaler.fit_transform(X_train)\n",
    "X_test = scaler.transform(X_test)\n",
    "\n",
    "# Naive Bayes\n",
    "nb_model.fit(X_train, y_train)\n",
    "y_pred_nb = nb_model.predict(X_test)\n",
    "\n",
    "# Random Forest\n",
    "rf_model.fit(X_train, y_train)\n",
    "y_pred_rf = rf_model.predict(X_test)\n",
    "\n",
    "# SVM\n",
    "svm_model.fit(X_train, y_train)\n",
    "y_pred_svm = svm_model.predict(X_test)\n",
    "\n",
    "# Logistic Regression\n",
    "lr_model.fit(X_train, y_train)\n",
    "y_pred_lr = lr_model.predict(X_test)\n"
   ]
  },
  {
   "cell_type": "code",
   "execution_count": 5,
   "metadata": {},
   "outputs": [
    {
     "name": "stdout",
     "output_type": "stream",
     "text": [
      "riceDataset Results:\n",
      "                 Model  Accuracy  Precision\n",
      "0          Naive Bayes  0.927384   0.932406\n",
      "1        Random Forest  0.926509   0.937500\n",
      "2                  SVM  0.930884   0.941650\n",
      "3  Logistic Regression  0.930009   0.938000\n",
      "\n",
      "Best Model based on Accuracy:\n",
      "Model             SVM\n",
      "Accuracy     0.930884\n",
      "Precision     0.94165\n",
      "Name: 2, dtype: object\n",
      "\n",
      "Best Model based on Precision:\n",
      "Model             SVM\n",
      "Accuracy     0.930884\n",
      "Precision     0.94165\n",
      "Name: 2, dtype: object\n"
     ]
    }
   ],
   "source": [
    "result(dataset_name=\"rice\",y_test=y_test,y_pred_nb=y_pred_nb,y_pred_rf=y_pred_rf,y_pred_svm=y_pred_svm,y_pred_lr=y_pred_lr,pos_label='Cammeo')"
   ]
  },
  {
   "cell_type": "markdown",
   "metadata": {},
   "source": []
  },
  {
   "cell_type": "code",
   "execution_count": 6,
   "metadata": {},
   "outputs": [],
   "source": [
    "# 2\n",
    "\n",
    "column_names = ['age', 'workclass', 'fnlwgt', 'education', 'education-num', 'marital-status', 'occupation',\n",
    "                'relationship', 'race', 'sex', 'capital-gain', 'capital-loss', 'hours-per-week', 'native-country', 'income']\n",
    "\n",
    "salary_df = pd.read_csv('adult.data', names=column_names, na_values=\"?\")\n",
    "\n",
    "salary_df = salary_df.dropna()\n",
    "\n",
    "X_salary = salary_df.drop(columns=['income'])\n",
    "y_salary = salary_df['income']\n",
    "\n",
    "X_salary = pd.get_dummies(X_salary, drop_first=True)\n",
    "\n",
    "# Split the dataset\n",
    "X_train, X_test, y_train, y_test = train_test_split(X_salary, y_salary, test_size=0.3, random_state=42)\n",
    "\n",
    "# Standardize the dataset\n",
    "X_train = scaler.fit_transform(X_train)\n",
    "X_test = scaler.transform(X_test)\n",
    "\n",
    "# Naive Bayes\n",
    "nb_model.fit(X_train, y_train)\n",
    "y_pred_nb = nb_model.predict(X_test)\n",
    "\n",
    "# Random Forest\n",
    "rf_model.fit(X_train, y_train)\n",
    "y_pred_rf = rf_model.predict(X_test)\n",
    "\n",
    "# SVM\n",
    "svm_model.fit(X_train, y_train)\n",
    "y_pred_svm = svm_model.predict(X_test)\n",
    "\n",
    "# Logistic Regression\n",
    "lr_model.fit(X_train, y_train)\n",
    "y_pred_lr = lr_model.predict(X_test)"
   ]
  },
  {
   "cell_type": "code",
   "execution_count": 7,
   "metadata": {},
   "outputs": [
    {
     "name": "stdout",
     "output_type": "stream",
     "text": [
      "\n",
      "Adult Dataset Results:\n",
      "                 Model  Accuracy  Precision\n",
      "0          Naive Bayes  0.388474   0.276502\n",
      "1        Random Forest  0.856587   0.727681\n",
      "2                  SVM  0.853107   0.758074\n",
      "3  Logistic Regression  0.855154   0.736454\n",
      "\n",
      "Best Model for Adult Dataset based on Accuracy:\n",
      "Model        Random Forest\n",
      "Accuracy          0.856587\n",
      "Precision         0.727681\n",
      "Name: 1, dtype: object\n",
      "\n",
      "Best Model for Adult Dataset based on Precision:\n",
      "Model             SVM\n",
      "Accuracy     0.853107\n",
      "Precision    0.758074\n",
      "Name: 2, dtype: object\n"
     ]
    }
   ],
   "source": [
    "results_adult = {\n",
    "    'Model': ['Naive Bayes', 'Random Forest', 'SVM', 'Logistic Regression'],\n",
    "    'Accuracy': [accuracy_score(y_test, y_pred_nb),\n",
    "                 accuracy_score(y_test, y_pred_rf),\n",
    "                 accuracy_score(y_test, y_pred_svm),\n",
    "                 accuracy_score(y_test, y_pred_lr)],\n",
    "    'Precision': [precision_score(y_test, y_pred_nb,  pos_label=' >50K'),\n",
    "                  precision_score(y_test, y_pred_rf,  pos_label=' >50K'),\n",
    "                  precision_score(y_test, y_pred_svm, pos_label=' >50K'),\n",
    "                  precision_score(y_test, y_pred_lr,  pos_label=' >50K')]\n",
    "}\n",
    "\n",
    "df_results_adult = pd.DataFrame(results_adult)\n",
    "print(\"\\nAdult Dataset Results:\")\n",
    "print(df_results_adult)\n",
    "\n",
    "# Determine the best model based on Accuracy and Precision\n",
    "best_accuracy_model_adult = df_results_adult.loc[df_results_adult['Accuracy'].idxmax()]\n",
    "best_precision_model_adult = df_results_adult.loc[df_results_adult['Precision'].idxmax()]\n",
    "\n",
    "print(\"\\nBest Model for Adult Dataset based on Accuracy:\")\n",
    "print(best_accuracy_model_adult)\n",
    "\n",
    "print(\"\\nBest Model for Adult Dataset based on Precision:\")\n",
    "print(best_precision_model_adult)"
   ]
  },
  {
   "cell_type": "code",
   "execution_count": 8,
   "metadata": {},
   "outputs": [
    {
     "name": "stderr",
     "output_type": "stream",
     "text": [
      "C:\\Users\\sbhar\\AppData\\Local\\Temp\\ipykernel_10848\\3444592755.py:3: FutureWarning: The 'delim_whitespace' keyword in pd.read_csv is deprecated and will be removed in a future version. Use ``sep='\\s+'`` instead\n",
      "  heart_df = pd.read_csv('echocardiogram.data',names=column_names_heart,na_values='?',delim_whitespace=False,on_bad_lines=\"skip\")\n"
     ]
    }
   ],
   "source": [
    "column_names_heart=\"survival ,still-alive, age-at-heart-attack, pericardial-effusion,fractional-shortening,epss ,lvdd, wall-motion-score, wall-motion-index, mult,name,group,alive-at-1 \".replace(\" \",\"\").split(\",\")\n",
    "\n",
    "heart_df = pd.read_csv('echocardiogram.data',names=column_names_heart,na_values='?',delim_whitespace=False,on_bad_lines=\"skip\")\n",
    "heart_df=heart_df.drop(columns=['group','mult']).dropna()\n",
    "\n",
    "X_heart = heart_df.drop(columns=['still-alive','alive-at-1','name'])\n",
    "y_heart = heart_df['alive-at-1']\n",
    "\n",
    "X_train,X_test,y_train,y_test = train_test_split(X_heart,y_heart,test_size=0.3)"
   ]
  },
  {
   "cell_type": "code",
   "execution_count": 9,
   "metadata": {},
   "outputs": [],
   "source": [
    "\n",
    "\n",
    "# Naive Bayes\n",
    "nb_model.fit(X_train, y_train)\n",
    "y_pred_nb = nb_model.predict(X_test)\n",
    "\n",
    "# Random Forest\n",
    "rf_model.fit(X_train, y_train)\n",
    "y_pred_rf = rf_model.predict(X_test)\n",
    "\n",
    "# SVM\n",
    "svm_model.fit(X_train, y_train)\n",
    "y_pred_svm = svm_model.predict(X_test)\n",
    "\n",
    "# Logistic Regression\n",
    "lr_model.fit(X_train, y_train)\n",
    "y_pred_lr = lr_model.predict(X_test)\n"
   ]
  },
  {
   "cell_type": "code",
   "execution_count": 10,
   "metadata": {},
   "outputs": [
    {
     "name": "stdout",
     "output_type": "stream",
     "text": [
      "\n",
      "Echocardiogram Dataset Results:\n",
      "                 Model  Accuracy  Precision\n",
      "0          Naive Bayes  0.947368   0.928571\n",
      "1        Random Forest  1.000000   1.000000\n",
      "2                  SVM  1.000000   1.000000\n",
      "3  Logistic Regression  1.000000   1.000000\n",
      "\n",
      "Best Model for Echocardiogram Dataset based on Accuracy:\n",
      "Model        Random Forest\n",
      "Accuracy               1.0\n",
      "Precision              1.0\n",
      "Name: 1, dtype: object\n",
      "\n",
      "Best Model for Echocardiogram Dataset based on Precision:\n",
      "Model        Random Forest\n",
      "Accuracy               1.0\n",
      "Precision              1.0\n",
      "Name: 1, dtype: object\n"
     ]
    }
   ],
   "source": [
    "results_heart = {\n",
    "    'Model': ['Naive Bayes', 'Random Forest', 'SVM', 'Logistic Regression'],\n",
    "    'Accuracy': [accuracy_score(y_test, y_pred_nb),\n",
    "                 accuracy_score(y_test, y_pred_rf),\n",
    "                 accuracy_score(y_test, y_pred_svm),\n",
    "                 accuracy_score(y_test, y_pred_lr)],\n",
    "    'Precision': [precision_score(y_test, y_pred_nb,  pos_label=0.0),\n",
    "                  precision_score(y_test, y_pred_rf,  pos_label=0.0),\n",
    "                  precision_score(y_test, y_pred_svm, pos_label=0.0),\n",
    "                  precision_score(y_test, y_pred_lr,  pos_label=0.0)]\n",
    "}\n",
    "\n",
    "df_results_heart = pd.DataFrame(results_heart)\n",
    "print(\"\\nEchocardiogram Dataset Results:\")\n",
    "print(df_results_heart)\n",
    "\n",
    "# Determine the best model based on Accuracy and Precision\n",
    "best_accuracy_model_heart = df_results_heart.loc[df_results_heart['Accuracy'].idxmax()]\n",
    "best_precision_model_heart = df_results_heart.loc[df_results_heart['Precision'].idxmax()]\n",
    "\n",
    "print(\"\\nBest Model for Echocardiogram Dataset based on Accuracy:\")\n",
    "print(best_accuracy_model_heart)\n",
    "\n",
    "print(\"\\nBest Model for Echocardiogram Dataset based on Precision:\")\n",
    "print(best_precision_model_heart)"
   ]
  }
 ],
 "metadata": {
  "kernelspec": {
   "display_name": "Python 3",
   "language": "python",
   "name": "python3"
  },
  "language_info": {
   "codemirror_mode": {
    "name": "ipython",
    "version": 3
   },
   "file_extension": ".py",
   "mimetype": "text/x-python",
   "name": "python",
   "nbconvert_exporter": "python",
   "pygments_lexer": "ipython3",
   "version": "3.12.5"
  }
 },
 "nbformat": 4,
 "nbformat_minor": 2
}
