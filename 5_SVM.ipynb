{
 "cells": [
  {
   "cell_type": "markdown",
   "metadata": {},
   "source": [
    "SUPPORT VECTOR MACHINE"
   ]
  },
  {
   "cell_type": "code",
   "execution_count": 1,
   "metadata": {},
   "outputs": [],
   "source": [
    "import pandas as pd\n",
    "from sklearn.model_selection import KFold, cross_val_score\n",
    "from sklearn.svm import SVC\n",
    "from sklearn.preprocessing import LabelEncoder\n",
    "from scipy.io import arff\n"
   ]
  },
  {
   "cell_type": "code",
   "execution_count": 51,
   "metadata": {},
   "outputs": [],
   "source": [
    "# Load the datasets\n",
    "# df1 = pd.read_csv(r\"datasets\\wine+quality\\winequality-red.csv\", sep=\";\")\n",
    "\n",
    "data, meta = arff.loadarff(r'D:\\ML\\datasets\\DryBeanDataset\\Dry_Bean_Dataset.arff')\n",
    "df2 = pd.DataFrame(data)\n",
    "df2['Class'] = df2['Class'].astype(str)\n",
    "le = LabelEncoder()\n",
    "df2['Class'] = le.fit_transform(df2['Class'])\n",
    "\n",
    "df3 = pd.read_csv(r\"datasets\\Raisin_Dataset\\Raisin_Dataset.csv\")\n"
   ]
  },
  {
   "cell_type": "code",
   "execution_count": 52,
   "metadata": {},
   "outputs": [],
   "source": [
    "\n",
    "# Define datasets\n",
    "datasets_name = ['DRYBEAN', 'RAISIN']\n",
    "datasets = {\n",
    "    'datasets': [df2, df3],\n",
    "    'X': [df2.drop(columns='Class'), df3.drop(columns='Class')],\n",
    "    'y': [df2['Class'], df3['Class']]\n",
    "}"
   ]
  },
  {
   "cell_type": "code",
   "execution_count": 74,
   "metadata": {},
   "outputs": [],
   "source": [
    "C = [0.1, 10.0, 20.0]\n",
    "gamma= [0.0001, 0.1, 1.0]\n",
    "kernel= ['linear', 'rbf','sigmoid']\n",
    "kernel= ['linear', 'linear','linear']"
   ]
  },
  {
   "cell_type": "markdown",
   "metadata": {},
   "source": [
    "Apply 5 fold cross-fold cross validation by varying parameters"
   ]
  },
  {
   "cell_type": "code",
   "execution_count": 75,
   "metadata": {},
   "outputs": [],
   "source": [
    "best_parm_all = {}\n",
    "kf = KFold(n_splits=5, shuffle=True, random_state=42)"
   ]
  },
  {
   "cell_type": "code",
   "execution_count": 76,
   "metadata": {},
   "outputs": [],
   "source": [
    "best_parm_list=[]\n",
    "for i, name in enumerate(datasets['datasets']):\n",
    "    X = datasets['X'][i]\n",
    "    y = datasets['y'][i]\n",
    "\n",
    "    best_score = 0\n",
    "    best_parm = {}\n",
    "\n",
    "\n",
    "\n",
    "    for j in range(3):\n",
    "        svm = SVC(C=C[j], gamma=gamma[j], kernel=kernel[j], random_state=42)\n",
    "        cv_res = cross_val_score(svm, X, y, cv=kf, scoring='accuracy', n_jobs=-1)\n",
    "        mean_score = cv_res.mean()\n",
    "        # print()\n",
    "        parm = {\n",
    "                'C': C[j],\n",
    "                'gamma': gamma[j],\n",
    "                'kernel': kernel[j],\n",
    "                'score' : mean_score\n",
    "            }\n",
    "        if mean_score > best_score:\n",
    "            best_score = mean_score\n",
    "            best_parm = {\n",
    "                'C': C[j],\n",
    "                'gamma': gamma[j],\n",
    "                'kernel': kernel[j]\n",
    "            }\n",
    "            best_svm = svm\n",
    "        best_parm_list.append(parm)\n",
    "    best_parm_all[datasets_name[i]] = best_parm\n",
    "    "
   ]
  },
  {
   "cell_type": "code",
   "execution_count": 77,
   "metadata": {},
   "outputs": [
    {
     "data": {
      "text/html": [
       "<div>\n",
       "<style scoped>\n",
       "    .dataframe tbody tr th:only-of-type {\n",
       "        vertical-align: middle;\n",
       "    }\n",
       "\n",
       "    .dataframe tbody tr th {\n",
       "        vertical-align: top;\n",
       "    }\n",
       "\n",
       "    .dataframe thead th {\n",
       "        text-align: right;\n",
       "    }\n",
       "</style>\n",
       "<table border=\"1\" class=\"dataframe\">\n",
       "  <thead>\n",
       "    <tr style=\"text-align: right;\">\n",
       "      <th></th>\n",
       "      <th>DRYBEAN</th>\n",
       "      <th>RAISIN</th>\n",
       "    </tr>\n",
       "  </thead>\n",
       "  <tbody>\n",
       "    <tr>\n",
       "      <th>C</th>\n",
       "      <td>20.0</td>\n",
       "      <td>20.0</td>\n",
       "    </tr>\n",
       "    <tr>\n",
       "      <th>gamma</th>\n",
       "      <td>1.0</td>\n",
       "      <td>1.0</td>\n",
       "    </tr>\n",
       "    <tr>\n",
       "      <th>kernel</th>\n",
       "      <td>linear</td>\n",
       "      <td>linear</td>\n",
       "    </tr>\n",
       "  </tbody>\n",
       "</table>\n",
       "</div>"
      ],
      "text/plain": [
       "       DRYBEAN  RAISIN\n",
       "C         20.0    20.0\n",
       "gamma      1.0     1.0\n",
       "kernel  linear  linear"
      ]
     },
     "execution_count": 77,
     "metadata": {},
     "output_type": "execute_result"
    }
   ],
   "source": [
    "# Convert the results into a DataFrame\n",
    "res = pd.DataFrame(best_parm_all)\n",
    "res.head()"
   ]
  },
  {
   "cell_type": "code",
   "execution_count": 78,
   "metadata": {},
   "outputs": [
    {
     "data": {
      "text/html": [
       "<div>\n",
       "<style scoped>\n",
       "    .dataframe tbody tr th:only-of-type {\n",
       "        vertical-align: middle;\n",
       "    }\n",
       "\n",
       "    .dataframe tbody tr th {\n",
       "        vertical-align: top;\n",
       "    }\n",
       "\n",
       "    .dataframe thead th {\n",
       "        text-align: right;\n",
       "    }\n",
       "</style>\n",
       "<table border=\"1\" class=\"dataframe\">\n",
       "  <thead>\n",
       "    <tr style=\"text-align: right;\">\n",
       "      <th></th>\n",
       "      <th>C</th>\n",
       "      <th>gamma</th>\n",
       "      <th>kernel</th>\n",
       "      <th>score</th>\n",
       "    </tr>\n",
       "  </thead>\n",
       "  <tbody>\n",
       "    <tr>\n",
       "      <th>0</th>\n",
       "      <td>0.1</td>\n",
       "      <td>0.0001</td>\n",
       "      <td>linear</td>\n",
       "      <td>0.853333</td>\n",
       "    </tr>\n",
       "    <tr>\n",
       "      <th>1</th>\n",
       "      <td>10.0</td>\n",
       "      <td>0.1000</td>\n",
       "      <td>linear</td>\n",
       "      <td>0.851111</td>\n",
       "    </tr>\n",
       "    <tr>\n",
       "      <th>2</th>\n",
       "      <td>20.0</td>\n",
       "      <td>1.0000</td>\n",
       "      <td>linear</td>\n",
       "      <td>0.856667</td>\n",
       "    </tr>\n",
       "  </tbody>\n",
       "</table>\n",
       "</div>"
      ],
      "text/plain": [
       "      C   gamma  kernel     score\n",
       "0   0.1  0.0001  linear  0.853333\n",
       "1  10.0  0.1000  linear  0.851111\n",
       "2  20.0  1.0000  linear  0.856667"
      ]
     },
     "execution_count": 78,
     "metadata": {},
     "output_type": "execute_result"
    }
   ],
   "source": [
    "pd.DataFrame(best_parm_list[0:3]),\n",
    "pd.DataFrame(best_parm_list[3:6])"
   ]
  }
 ],
 "metadata": {
  "kernelspec": {
   "display_name": "Python 3",
   "language": "python",
   "name": "python3"
  },
  "language_info": {
   "codemirror_mode": {
    "name": "ipython",
    "version": 3
   },
   "file_extension": ".py",
   "mimetype": "text/x-python",
   "name": "python",
   "nbconvert_exporter": "python",
   "pygments_lexer": "ipython3",
   "version": "3.12.5"
  }
 },
 "nbformat": 4,
 "nbformat_minor": 2
}
