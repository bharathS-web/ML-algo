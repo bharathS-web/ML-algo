{
 "cells": [
  {
   "cell_type": "markdown",
   "metadata": {},
   "source": [
    "ENSEMBLE CLASSIFIER MODELS"
   ]
  },
  {
   "cell_type": "code",
   "execution_count": 1,
   "metadata": {},
   "outputs": [],
   "source": [
    "from sklearn.datasets import load_iris\n",
    "import pandas as pd\n",
    "\n",
    "iris = load_iris()\n",
    "X_iris, y_iris = iris.data, iris.target\n",
    "\n",
    "wine_data = pd.read_csv(r\"datasets\\wine+quality\\winequality-white.csv\", delimiter=';').sample(200)\n",
    "\n",
    "X_wine = wine_data.drop('quality', axis=1)\n",
    "y_wine = wine_data['quality']\n"
   ]
  },
  {
   "cell_type": "code",
   "execution_count": 14,
   "metadata": {},
   "outputs": [],
   "source": [
    "from sklearn.model_selection import train_test_split\n",
    "\n",
    "X_train_iris, X_test_iris, y_train_iris, y_test_iris = train_test_split(X_iris, y_iris, test_size=0.3, random_state=42)\n",
    "\n",
    "X_train_wine, X_test_wine, y_train_wine, y_test_wine = train_test_split(X_wine, y_wine, test_size=0.3, random_state=42)\n"
   ]
  },
  {
   "cell_type": "code",
   "execution_count": 15,
   "metadata": {},
   "outputs": [
    {
     "name": "stderr",
     "output_type": "stream",
     "text": [
      "c:\\Users\\sbhar\\AppData\\Local\\Programs\\Python\\Python312\\Lib\\site-packages\\sklearn\\linear_model\\_logistic.py:469: ConvergenceWarning: lbfgs failed to converge (status=1):\n",
      "STOP: TOTAL NO. of ITERATIONS REACHED LIMIT.\n",
      "\n",
      "Increase the number of iterations (max_iter) or scale the data as shown in:\n",
      "    https://scikit-learn.org/stable/modules/preprocessing.html\n",
      "Please also refer to the documentation for alternative solver options:\n",
      "    https://scikit-learn.org/stable/modules/linear_model.html#logistic-regression\n",
      "  n_iter_i = _check_optimize_result(\n",
      "c:\\Users\\sbhar\\AppData\\Local\\Programs\\Python\\Python312\\Lib\\site-packages\\sklearn\\linear_model\\_logistic.py:469: ConvergenceWarning: lbfgs failed to converge (status=1):\n",
      "STOP: TOTAL NO. of ITERATIONS REACHED LIMIT.\n",
      "\n",
      "Increase the number of iterations (max_iter) or scale the data as shown in:\n",
      "    https://scikit-learn.org/stable/modules/preprocessing.html\n",
      "Please also refer to the documentation for alternative solver options:\n",
      "    https://scikit-learn.org/stable/modules/linear_model.html#logistic-regression\n",
      "  n_iter_i = _check_optimize_result(\n"
     ]
    },
    {
     "name": "stdout",
     "output_type": "stream",
     "text": [
      "Voting Classifier (Hard Voting) Accuracy on Iris: 1.0\n",
      "Voting Classifier (Hard Voting) Accuracy on Wine: 0.4666666666666667\n"
     ]
    }
   ],
   "source": [
    "from sklearn.ensemble import VotingClassifier\n",
    "from sklearn.linear_model import LogisticRegression\n",
    "from sklearn.ensemble import RandomForestClassifier\n",
    "from sklearn.svm import SVC\n",
    "from sklearn.metrics import accuracy_score\n",
    "\n",
    "log_clf = LogisticRegression(C=100,max_iter=100)\n",
    "rf_clf = RandomForestClassifier()\n",
    "svm_clf = SVC(probability=True)\n",
    "\n",
    "voting_clf_hard = VotingClassifier(estimators=[\n",
    "    ('lr', log_clf), ('rf', rf_clf), ('svc', svm_clf)], voting='hard')\n",
    "\n",
    "voting_clf_hard.fit(X_train_iris, y_train_iris)\n",
    "y_pred_iris = voting_clf_hard.predict(X_test_iris)\n",
    "print(\"Voting Classifier (Hard Voting) Accuracy on Iris:\", accuracy_score(y_test_iris, y_pred_iris))\n",
    "\n",
    "voting_clf_hard.fit(X_train_wine, y_train_wine)\n",
    "y_pred_wine = voting_clf_hard.predict(X_test_wine)\n",
    "print(\"Voting Classifier (Hard Voting) Accuracy on Wine:\", accuracy_score(y_test_wine, y_pred_wine))\n"
   ]
  },
  {
   "cell_type": "code",
   "execution_count": 4,
   "metadata": {},
   "outputs": [
    {
     "name": "stdout",
     "output_type": "stream",
     "text": [
      "Voting Classifier (Soft Voting) Accuracy on Iris: 1.0\n",
      "Voting Classifier (Soft Voting) Accuracy on Wine: 0.45\n"
     ]
    },
    {
     "name": "stderr",
     "output_type": "stream",
     "text": [
      "c:\\Users\\sbhar\\AppData\\Local\\Programs\\Python\\Python312\\Lib\\site-packages\\sklearn\\linear_model\\_logistic.py:469: ConvergenceWarning: lbfgs failed to converge (status=1):\n",
      "STOP: TOTAL NO. of f AND g EVALUATIONS EXCEEDS LIMIT.\n",
      "\n",
      "Increase the number of iterations (max_iter) or scale the data as shown in:\n",
      "    https://scikit-learn.org/stable/modules/preprocessing.html\n",
      "Please also refer to the documentation for alternative solver options:\n",
      "    https://scikit-learn.org/stable/modules/linear_model.html#logistic-regression\n",
      "  n_iter_i = _check_optimize_result(\n"
     ]
    }
   ],
   "source": [
    "# Soft Voting (average probability)\n",
    "voting_clf_soft = VotingClassifier(estimators=[\n",
    "    ('lr', log_clf), ('rf', rf_clf), ('svc', svm_clf)], voting='soft')\n",
    "\n",
    "voting_clf_soft.fit(X_train_iris, y_train_iris)\n",
    "y_pred_iris = voting_clf_soft.predict(X_test_iris)\n",
    "print(\"Voting Classifier (Soft Voting) Accuracy on Iris:\", accuracy_score(y_test_iris, y_pred_iris))\n",
    "\n",
    "voting_clf_soft.fit(X_train_wine, y_train_wine)\n",
    "y_pred_wine = voting_clf_soft.predict(X_test_wine)\n",
    "print(\"Voting Classifier (Soft Voting) Accuracy on Wine:\", accuracy_score(y_test_wine, y_pred_wine))\n"
   ]
  },
  {
   "cell_type": "markdown",
   "metadata": {},
   "source": [
    "Bagging Classifier"
   ]
  },
  {
   "cell_type": "code",
   "execution_count": 5,
   "metadata": {},
   "outputs": [
    {
     "name": "stdout",
     "output_type": "stream",
     "text": [
      "Bagging Classifier Accuracy on Iris: 1.0\n",
      "Bagging Classifier Accuracy on Wine: 0.35\n"
     ]
    }
   ],
   "source": [
    "from sklearn.ensemble import BaggingClassifier\n",
    "from sklearn.tree import DecisionTreeClassifier\n",
    "\n",
    "# Bagging Classifier using Decision Tree\n",
    "bag_clf = BaggingClassifier(DecisionTreeClassifier(), n_estimators=100, random_state=42)\n",
    "\n",
    "# Train and evaluate on Iris dataset\n",
    "bag_clf.fit(X_train_iris, y_train_iris)\n",
    "y_pred_iris = bag_clf.predict(X_test_iris)\n",
    "print(\"Bagging Classifier Accuracy on Iris:\", accuracy_score(y_test_iris, y_pred_iris))\n",
    "\n",
    "# Train and evaluate on Wine Quality dataset\n",
    "bag_clf.fit(X_train_wine, y_train_wine)\n",
    "y_pred_wine = bag_clf.predict(X_test_wine)\n",
    "print(\"Bagging Classifier Accuracy on Wine:\", accuracy_score(y_test_wine, y_pred_wine))\n"
   ]
  },
  {
   "cell_type": "markdown",
   "metadata": {},
   "source": [
    "Gradient Boosting Classifier"
   ]
  },
  {
   "cell_type": "code",
   "execution_count": 6,
   "metadata": {},
   "outputs": [
    {
     "name": "stdout",
     "output_type": "stream",
     "text": [
      "Gradient Boosting Classifier Accuracy on Iris: 1.0\n",
      "Gradient Boosting Classifier Accuracy on Wine: 0.36666666666666664\n"
     ]
    }
   ],
   "source": [
    "from sklearn.ensemble import GradientBoostingClassifier\n",
    "\n",
    "# Gradient Boosting Classifier\n",
    "gb_clf = GradientBoostingClassifier(n_estimators=100, random_state=42)\n",
    "\n",
    "# Train and evaluate on Iris dataset\n",
    "gb_clf.fit(X_train_iris, y_train_iris)\n",
    "y_pred_iris = gb_clf.predict(X_test_iris)\n",
    "print(\"Gradient Boosting Classifier Accuracy on Iris:\", accuracy_score(y_test_iris, y_pred_iris))\n",
    "\n",
    "# Train and evaluate on Wine Quality dataset\n",
    "gb_clf.fit(X_train_wine, y_train_wine)\n",
    "y_pred_wine = gb_clf.predict(X_test_wine)\n",
    "print(\"Gradient Boosting Classifier Accuracy on Wine:\", accuracy_score(y_test_wine, y_pred_wine))\n"
   ]
  },
  {
   "cell_type": "code",
   "execution_count": 8,
   "metadata": {},
   "outputs": [
    {
     "name": "stdout",
     "output_type": "stream",
     "text": [
      "Voting (Hard) on Wine: 0.43333333333333335\n",
      "Voting (Soft) on Wine: 0.45\n",
      "Bagging on Wine: 0.35\n",
      "Gradient Boosting on Wine: 0.36666666666666664\n"
     ]
    }
   ],
   "source": [
    "# print(\"Voting (Hard) on Iris:\", accuracy_score(y_test_iris, voting_clf_hard.predict(X_test_iris)))\n",
    "# print(\"Voting (Soft) on Iris:\", accuracy_score(y_test_iris, voting_clf_soft.predict(X_test_iris)))\n",
    "# print(\"Bagging on Iris:\", accuracy_score(y_test_iris, bag_clf.predict(X_test_iris)))\n",
    "# print(\"Gradient Boosting on Iris:\", accuracy_score(y_test_iris, gb_clf.predict(X_test_iris)))\n",
    "\n",
    "print(\"Voting (Hard) on Wine:\", accuracy_score(y_test_wine, voting_clf_hard.predict(X_test_wine)))\n",
    "print(\"Voting (Soft) on Wine:\", accuracy_score(y_test_wine, voting_clf_soft.predict(X_test_wine)))\n",
    "print(\"Bagging on Wine:\", accuracy_score(y_test_wine, bag_clf.predict(X_test_wine)))\n",
    "print(\"Gradient Boosting on Wine:\", accuracy_score(y_test_wine, gb_clf.predict(X_test_wine)))\n"
   ]
  },
  {
   "cell_type": "code",
   "execution_count": 16,
   "metadata": {},
   "outputs": [
    {
     "name": "stdout",
     "output_type": "stream",
     "text": [
      "Voting Classifier (Hard Voting) Accuracy on Iris: 1.0\n"
     ]
    },
    {
     "name": "stderr",
     "output_type": "stream",
     "text": [
      "c:\\Users\\sbhar\\AppData\\Local\\Programs\\Python\\Python312\\Lib\\site-packages\\sklearn\\linear_model\\_logistic.py:469: ConvergenceWarning: lbfgs failed to converge (status=1):\n",
      "STOP: TOTAL NO. of ITERATIONS REACHED LIMIT.\n",
      "\n",
      "Increase the number of iterations (max_iter) or scale the data as shown in:\n",
      "    https://scikit-learn.org/stable/modules/preprocessing.html\n",
      "Please also refer to the documentation for alternative solver options:\n",
      "    https://scikit-learn.org/stable/modules/linear_model.html#logistic-regression\n",
      "  n_iter_i = _check_optimize_result(\n"
     ]
    },
    {
     "name": "stdout",
     "output_type": "stream",
     "text": [
      "Voting Classifier (Hard Voting) Accuracy on Wine: 0.6104166666666667\n",
      "Voting Classifier (Soft Voting) Accuracy on Iris: 1.0\n"
     ]
    },
    {
     "name": "stderr",
     "output_type": "stream",
     "text": [
      "c:\\Users\\sbhar\\AppData\\Local\\Programs\\Python\\Python312\\Lib\\site-packages\\sklearn\\linear_model\\_logistic.py:469: ConvergenceWarning: lbfgs failed to converge (status=1):\n",
      "STOP: TOTAL NO. of ITERATIONS REACHED LIMIT.\n",
      "\n",
      "Increase the number of iterations (max_iter) or scale the data as shown in:\n",
      "    https://scikit-learn.org/stable/modules/preprocessing.html\n",
      "Please also refer to the documentation for alternative solver options:\n",
      "    https://scikit-learn.org/stable/modules/linear_model.html#logistic-regression\n",
      "  n_iter_i = _check_optimize_result(\n"
     ]
    },
    {
     "name": "stdout",
     "output_type": "stream",
     "text": [
      "Voting Classifier (Soft Voting) Accuracy on Wine: 0.61875\n",
      "Bagging Classifier Accuracy on Iris: 1.0\n",
      "Bagging Classifier Accuracy on Wine: 0.6416666666666667\n",
      "Gradient Boosting Classifier Accuracy on Iris: 1.0\n",
      "Gradient Boosting Classifier Accuracy on Wine: 0.63125\n",
      "\n",
      "--- Summary of Results ---\n",
      "Iris Dataset:\n",
      "Voting (Hard): 1.0\n",
      "Voting (Soft): 1.0\n",
      "Bagging: 1.0\n",
      "Gradient Boosting: 1.0\n",
      "\n",
      "Wine Quality Dataset:\n",
      "Voting (Hard): 0.6104166666666667\n",
      "Voting (Soft): 0.61875\n",
      "Bagging: 0.6416666666666667\n",
      "Gradient Boosting: 0.63125\n"
     ]
    }
   ],
   "source": [
    "from sklearn.datasets import load_iris\n",
    "import pandas as pd\n",
    "from sklearn.model_selection import train_test_split\n",
    "from sklearn.ensemble import VotingClassifier, BaggingClassifier, GradientBoostingClassifier\n",
    "from sklearn.linear_model import LogisticRegression\n",
    "from sklearn.ensemble import RandomForestClassifier\n",
    "from sklearn.svm import SVC\n",
    "from sklearn.tree import DecisionTreeClassifier\n",
    "from sklearn.metrics import accuracy_score\n",
    "\n",
    "# Load the Iris dataset\n",
    "iris = load_iris()\n",
    "X_iris, y_iris = iris.data, iris.target\n",
    "\n",
    "# Load the Wine Quality dataset\n",
    "wine_quality_url = 'https://archive.ics.uci.edu/ml/machine-learning-databases/wine-quality/winequality-red.csv'\n",
    "wine_data = pd.read_csv(wine_quality_url, delimiter=';')\n",
    "X_wine = wine_data.drop('quality', axis=1)\n",
    "y_wine = wine_data['quality']\n",
    "\n",
    "# Split the Iris dataset\n",
    "X_train_iris, X_test_iris, y_train_iris, y_test_iris = train_test_split(X_iris, y_iris, test_size=0.3, random_state=42)\n",
    "\n",
    "# Split the Wine Quality dataset\n",
    "X_train_wine, X_test_wine, y_train_wine, y_test_wine = train_test_split(X_wine, y_wine, test_size=0.3, random_state=42)\n",
    "\n",
    "# Define the base models\n",
    "log_clf = LogisticRegression(max_iter=1000)\n",
    "rf_clf = RandomForestClassifier()\n",
    "svm_clf = SVC(probability=True)\n",
    "\n",
    "# Hard Voting (majority voting)\n",
    "voting_clf_hard = VotingClassifier(estimators=[('lr', log_clf), ('rf', rf_clf), ('svc', svm_clf)], voting='hard')\n",
    "\n",
    "# Train and evaluate on Iris dataset (Hard Voting)\n",
    "voting_clf_hard.fit(X_train_iris, y_train_iris)\n",
    "y_pred_iris_hard = voting_clf_hard.predict(X_test_iris)\n",
    "print(\"Voting Classifier (Hard Voting) Accuracy on Iris:\", accuracy_score(y_test_iris, y_pred_iris_hard))\n",
    "\n",
    "# Train and evaluate on Wine Quality dataset (Hard Voting)\n",
    "voting_clf_hard.fit(X_train_wine, y_train_wine)\n",
    "y_pred_wine_hard = voting_clf_hard.predict(X_test_wine)\n",
    "print(\"Voting Classifier (Hard Voting) Accuracy on Wine:\", accuracy_score(y_test_wine, y_pred_wine_hard))\n",
    "\n",
    "# Soft Voting (average probability)\n",
    "voting_clf_soft = VotingClassifier(estimators=[('lr', log_clf), ('rf', rf_clf), ('svc', svm_clf)], voting='soft')\n",
    "\n",
    "# Train and evaluate on Iris dataset (Soft Voting)\n",
    "voting_clf_soft.fit(X_train_iris, y_train_iris)\n",
    "y_pred_iris_soft = voting_clf_soft.predict(X_test_iris)\n",
    "print(\"Voting Classifier (Soft Voting) Accuracy on Iris:\", accuracy_score(y_test_iris, y_pred_iris_soft))\n",
    "\n",
    "# Train and evaluate on Wine Quality dataset (Soft Voting)\n",
    "voting_clf_soft.fit(X_train_wine, y_train_wine)\n",
    "y_pred_wine_soft = voting_clf_soft.predict(X_test_wine)\n",
    "print(\"Voting Classifier (Soft Voting) Accuracy on Wine:\", accuracy_score(y_test_wine, y_pred_wine_soft))\n",
    "\n",
    "# Bagging Classifier using Decision Tree\n",
    "bag_clf = BaggingClassifier(DecisionTreeClassifier(), n_estimators=100, random_state=42)\n",
    "\n",
    "# Train and evaluate on Iris dataset (Bagging)\n",
    "bag_clf.fit(X_train_iris, y_train_iris)\n",
    "y_pred_iris_bag = bag_clf.predict(X_test_iris)\n",
    "print(\"Bagging Classifier Accuracy on Iris:\", accuracy_score(y_test_iris, y_pred_iris_bag))\n",
    "\n",
    "# Train and evaluate on Wine Quality dataset (Bagging)\n",
    "bag_clf.fit(X_train_wine, y_train_wine)\n",
    "y_pred_wine_bag = bag_clf.predict(X_test_wine)\n",
    "print(\"Bagging Classifier Accuracy on Wine:\", accuracy_score(y_test_wine, y_pred_wine_bag))\n",
    "\n",
    "# Gradient Boosting Classifier\n",
    "gb_clf = GradientBoostingClassifier(n_estimators=100, random_state=42)\n",
    "\n",
    "# Train and evaluate on Iris dataset (Gradient Boosting)\n",
    "gb_clf.fit(X_train_iris, y_train_iris)\n",
    "y_pred_iris_gb = gb_clf.predict(X_test_iris)\n",
    "print(\"Gradient Boosting Classifier Accuracy on Iris:\", accuracy_score(y_test_iris, y_pred_iris_gb))\n",
    "\n",
    "# Train and evaluate on Wine Quality dataset (Gradient Boosting)\n",
    "gb_clf.fit(X_train_wine, y_train_wine)\n",
    "y_pred_wine_gb = gb_clf.predict(X_test_wine)\n",
    "print(\"Gradient Boosting Classifier Accuracy on Wine:\", accuracy_score(y_test_wine, y_pred_wine_gb))\n",
    "\n",
    "### Summary for easy comparison ###\n",
    "print(\"\\n--- Summary of Results ---\")\n",
    "print(\"Iris Dataset:\")\n",
    "print(f\"Voting (Hard): {accuracy_score(y_test_iris, y_pred_iris_hard)}\")\n",
    "print(f\"Voting (Soft): {accuracy_score(y_test_iris, y_pred_iris_soft)}\")\n",
    "print(f\"Bagging: {accuracy_score(y_test_iris, y_pred_iris_bag)}\")\n",
    "print(f\"Gradient Boosting: {accuracy_score(y_test_iris, y_pred_iris_gb)}\")\n",
    "\n",
    "print(\"\\nWine Quality Dataset:\")\n",
    "print(f\"Voting (Hard): {accuracy_score(y_test_wine, y_pred_wine_hard)}\")\n",
    "print(f\"Voting (Soft): {accuracy_score(y_test_wine, y_pred_wine_soft)}\")\n",
    "print(f\"Bagging: {accuracy_score(y_test_wine, y_pred_wine_bag)}\")\n",
    "print(f\"Gradient Boosting: {accuracy_score(y_test_wine, y_pred_wine_gb)}\")\n"
   ]
  },
  {
   "cell_type": "code",
   "execution_count": 17,
   "metadata": {},
   "outputs": [
    {
     "name": "stdout",
     "output_type": "stream",
     "text": [
      "Cross-Validation Results for Iris Dataset:\n",
      "Voting (Hard): 0.9666666666666668\n",
      "Voting (Soft): 0.9666666666666668\n",
      "Bagging: 0.9600000000000002\n",
      "Gradient Boosting: 0.9600000000000002\n",
      "\n",
      "Cross-Validation Results for Wine Quality Dataset:\n"
     ]
    },
    {
     "name": "stderr",
     "output_type": "stream",
     "text": [
      "c:\\Users\\sbhar\\AppData\\Local\\Programs\\Python\\Python312\\Lib\\site-packages\\sklearn\\linear_model\\_logistic.py:469: ConvergenceWarning: lbfgs failed to converge (status=1):\n",
      "STOP: TOTAL NO. of ITERATIONS REACHED LIMIT.\n",
      "\n",
      "Increase the number of iterations (max_iter) or scale the data as shown in:\n",
      "    https://scikit-learn.org/stable/modules/preprocessing.html\n",
      "Please also refer to the documentation for alternative solver options:\n",
      "    https://scikit-learn.org/stable/modules/linear_model.html#logistic-regression\n",
      "  n_iter_i = _check_optimize_result(\n",
      "c:\\Users\\sbhar\\AppData\\Local\\Programs\\Python\\Python312\\Lib\\site-packages\\sklearn\\linear_model\\_logistic.py:469: ConvergenceWarning: lbfgs failed to converge (status=1):\n",
      "STOP: TOTAL NO. of ITERATIONS REACHED LIMIT.\n",
      "\n",
      "Increase the number of iterations (max_iter) or scale the data as shown in:\n",
      "    https://scikit-learn.org/stable/modules/preprocessing.html\n",
      "Please also refer to the documentation for alternative solver options:\n",
      "    https://scikit-learn.org/stable/modules/linear_model.html#logistic-regression\n",
      "  n_iter_i = _check_optimize_result(\n",
      "c:\\Users\\sbhar\\AppData\\Local\\Programs\\Python\\Python312\\Lib\\site-packages\\sklearn\\linear_model\\_logistic.py:469: ConvergenceWarning: lbfgs failed to converge (status=1):\n",
      "STOP: TOTAL NO. of ITERATIONS REACHED LIMIT.\n",
      "\n",
      "Increase the number of iterations (max_iter) or scale the data as shown in:\n",
      "    https://scikit-learn.org/stable/modules/preprocessing.html\n",
      "Please also refer to the documentation for alternative solver options:\n",
      "    https://scikit-learn.org/stable/modules/linear_model.html#logistic-regression\n",
      "  n_iter_i = _check_optimize_result(\n",
      "c:\\Users\\sbhar\\AppData\\Local\\Programs\\Python\\Python312\\Lib\\site-packages\\sklearn\\linear_model\\_logistic.py:469: ConvergenceWarning: lbfgs failed to converge (status=1):\n",
      "STOP: TOTAL NO. of ITERATIONS REACHED LIMIT.\n",
      "\n",
      "Increase the number of iterations (max_iter) or scale the data as shown in:\n",
      "    https://scikit-learn.org/stable/modules/preprocessing.html\n",
      "Please also refer to the documentation for alternative solver options:\n",
      "    https://scikit-learn.org/stable/modules/linear_model.html#logistic-regression\n",
      "  n_iter_i = _check_optimize_result(\n",
      "c:\\Users\\sbhar\\AppData\\Local\\Programs\\Python\\Python312\\Lib\\site-packages\\sklearn\\linear_model\\_logistic.py:469: ConvergenceWarning: lbfgs failed to converge (status=1):\n",
      "STOP: TOTAL NO. of ITERATIONS REACHED LIMIT.\n",
      "\n",
      "Increase the number of iterations (max_iter) or scale the data as shown in:\n",
      "    https://scikit-learn.org/stable/modules/preprocessing.html\n",
      "Please also refer to the documentation for alternative solver options:\n",
      "    https://scikit-learn.org/stable/modules/linear_model.html#logistic-regression\n",
      "  n_iter_i = _check_optimize_result(\n"
     ]
    },
    {
     "name": "stdout",
     "output_type": "stream",
     "text": [
      "Voting (Hard): 0.5722413793103449\n"
     ]
    },
    {
     "name": "stderr",
     "output_type": "stream",
     "text": [
      "c:\\Users\\sbhar\\AppData\\Local\\Programs\\Python\\Python312\\Lib\\site-packages\\sklearn\\linear_model\\_logistic.py:469: ConvergenceWarning: lbfgs failed to converge (status=1):\n",
      "STOP: TOTAL NO. of ITERATIONS REACHED LIMIT.\n",
      "\n",
      "Increase the number of iterations (max_iter) or scale the data as shown in:\n",
      "    https://scikit-learn.org/stable/modules/preprocessing.html\n",
      "Please also refer to the documentation for alternative solver options:\n",
      "    https://scikit-learn.org/stable/modules/linear_model.html#logistic-regression\n",
      "  n_iter_i = _check_optimize_result(\n",
      "c:\\Users\\sbhar\\AppData\\Local\\Programs\\Python\\Python312\\Lib\\site-packages\\sklearn\\linear_model\\_logistic.py:469: ConvergenceWarning: lbfgs failed to converge (status=1):\n",
      "STOP: TOTAL NO. of ITERATIONS REACHED LIMIT.\n",
      "\n",
      "Increase the number of iterations (max_iter) or scale the data as shown in:\n",
      "    https://scikit-learn.org/stable/modules/preprocessing.html\n",
      "Please also refer to the documentation for alternative solver options:\n",
      "    https://scikit-learn.org/stable/modules/linear_model.html#logistic-regression\n",
      "  n_iter_i = _check_optimize_result(\n",
      "c:\\Users\\sbhar\\AppData\\Local\\Programs\\Python\\Python312\\Lib\\site-packages\\sklearn\\linear_model\\_logistic.py:469: ConvergenceWarning: lbfgs failed to converge (status=1):\n",
      "STOP: TOTAL NO. of ITERATIONS REACHED LIMIT.\n",
      "\n",
      "Increase the number of iterations (max_iter) or scale the data as shown in:\n",
      "    https://scikit-learn.org/stable/modules/preprocessing.html\n",
      "Please also refer to the documentation for alternative solver options:\n",
      "    https://scikit-learn.org/stable/modules/linear_model.html#logistic-regression\n",
      "  n_iter_i = _check_optimize_result(\n",
      "c:\\Users\\sbhar\\AppData\\Local\\Programs\\Python\\Python312\\Lib\\site-packages\\sklearn\\linear_model\\_logistic.py:469: ConvergenceWarning: lbfgs failed to converge (status=1):\n",
      "STOP: TOTAL NO. of ITERATIONS REACHED LIMIT.\n",
      "\n",
      "Increase the number of iterations (max_iter) or scale the data as shown in:\n",
      "    https://scikit-learn.org/stable/modules/preprocessing.html\n",
      "Please also refer to the documentation for alternative solver options:\n",
      "    https://scikit-learn.org/stable/modules/linear_model.html#logistic-regression\n",
      "  n_iter_i = _check_optimize_result(\n",
      "c:\\Users\\sbhar\\AppData\\Local\\Programs\\Python\\Python312\\Lib\\site-packages\\sklearn\\linear_model\\_logistic.py:469: ConvergenceWarning: lbfgs failed to converge (status=1):\n",
      "STOP: TOTAL NO. of ITERATIONS REACHED LIMIT.\n",
      "\n",
      "Increase the number of iterations (max_iter) or scale the data as shown in:\n",
      "    https://scikit-learn.org/stable/modules/preprocessing.html\n",
      "Please also refer to the documentation for alternative solver options:\n",
      "    https://scikit-learn.org/stable/modules/linear_model.html#logistic-regression\n",
      "  n_iter_i = _check_optimize_result(\n"
     ]
    },
    {
     "name": "stdout",
     "output_type": "stream",
     "text": [
      "Voting (Soft): 0.5715987460815046\n",
      "Bagging: 0.5634874608150471\n",
      "Gradient Boosting: 0.5647198275862069\n"
     ]
    }
   ],
   "source": [
    "from sklearn.model_selection import cross_val_score\n",
    "\n",
    "# Perform 5-fold cross-validation for Iris dataset\n",
    "print(\"Cross-Validation Results for Iris Dataset:\")\n",
    "\n",
    "# Voting (Hard)\n",
    "cv_scores_hard_iris = cross_val_score(voting_clf_hard, X_iris, y_iris, cv=5)\n",
    "print(\"Voting (Hard):\", cv_scores_hard_iris.mean())\n",
    "\n",
    "# Voting (Soft)\n",
    "cv_scores_soft_iris = cross_val_score(voting_clf_soft, X_iris, y_iris, cv=5)\n",
    "print(\"Voting (Soft):\", cv_scores_soft_iris.mean())\n",
    "\n",
    "# Bagging\n",
    "cv_scores_bag_iris = cross_val_score(bag_clf, X_iris, y_iris, cv=5)\n",
    "print(\"Bagging:\", cv_scores_bag_iris.mean())\n",
    "\n",
    "# Gradient Boosting\n",
    "cv_scores_gb_iris = cross_val_score(gb_clf, X_iris, y_iris, cv=5)\n",
    "print(\"Gradient Boosting:\", cv_scores_gb_iris.mean())\n",
    "\n",
    "\n",
    "# Perform 5-fold cross-validation for Wine Quality dataset\n",
    "print(\"\\nCross-Validation Results for Wine Quality Dataset:\")\n",
    "\n",
    "# Voting (Hard)\n",
    "cv_scores_hard_wine = cross_val_score(voting_clf_hard, X_wine, y_wine, cv=5)\n",
    "print(\"Voting (Hard):\", cv_scores_hard_wine.mean())\n",
    "\n",
    "# Voting (Soft)\n",
    "cv_scores_soft_wine = cross_val_score(voting_clf_soft, X_wine, y_wine, cv=5)\n",
    "print(\"Voting (Soft):\", cv_scores_soft_wine.mean())\n",
    "\n",
    "# Bagging\n",
    "cv_scores_bag_wine = cross_val_score(bag_clf, X_wine, y_wine, cv=5)\n",
    "print(\"Bagging:\", cv_scores_bag_wine.mean())\n",
    "\n",
    "# Gradient Boosting\n",
    "cv_scores_gb_wine = cross_val_score(gb_clf, X_wine, y_wine, cv=5)\n",
    "print(\"Gradient Boosting:\", cv_scores_gb_wine.mean())\n"
   ]
  }
 ],
 "metadata": {
  "kernelspec": {
   "display_name": "Python 3",
   "language": "python",
   "name": "python3"
  },
  "language_info": {
   "codemirror_mode": {
    "name": "ipython",
    "version": 3
   },
   "file_extension": ".py",
   "mimetype": "text/x-python",
   "name": "python",
   "nbconvert_exporter": "python",
   "pygments_lexer": "ipython3",
   "version": "3.12.5"
  }
 },
 "nbformat": 4,
 "nbformat_minor": 2
}
