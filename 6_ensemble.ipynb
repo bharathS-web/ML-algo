{
 "cells": [
  {
   "cell_type": "code",
   "execution_count": 1,
   "metadata": {},
   "outputs": [],
   "source": [
    "from sklearn.datasets import load_iris\n",
    "import pandas as pd\n",
    "from sklearn.model_selection import train_test_split\n",
    "from sklearn.ensemble import VotingClassifier, BaggingClassifier, GradientBoostingClassifier\n",
    "from sklearn.linear_model import LogisticRegression\n",
    "from sklearn.ensemble import RandomForestClassifier\n",
    "from sklearn.svm import SVC\n",
    "from sklearn.metrics import accuracy_score\n",
    "from sklearn.tree import DecisionTreeClassifier\n"
   ]
  },
  {
   "cell_type": "code",
   "execution_count": 2,
   "metadata": {},
   "outputs": [],
   "source": [
    "\n",
    "#\n",
    "iris = load_iris()\n",
    "df=pd.DataFrame(iris.data, columns=['SW','SL','PW','PL'])\n",
    "df['Species']=iris.target\n",
    "\n",
    "X_iris = df.drop('Species',axis=1)\n",
    "y_iris = df['Species']\n",
    "\n",
    "wine_quality_url = r'datasets\\wine+quality\\winequality-red.csv'\n",
    "wine_data = pd.read_csv(wine_quality_url, delimiter=';')\n",
    "X_wine = wine_data.drop('quality', axis=1)\n",
    "y_wine = wine_data['quality']\n"
   ]
  },
  {
   "cell_type": "code",
   "execution_count": 3,
   "metadata": {},
   "outputs": [],
   "source": [
    "# Split the Iris dataset\n",
    "X_train_iris, X_test_iris, y_train_iris, y_test_iris = train_test_split(X_iris, y_iris, test_size=0.3, random_state=42)\n",
    "\n",
    "# Split the Wine Quality dataset\n",
    "X_train_wine, X_test_wine, y_train_wine, y_test_wine = train_test_split(X_wine, y_wine, test_size=0.3, random_state=42)\n"
   ]
  },
  {
   "cell_type": "code",
   "execution_count": 4,
   "metadata": {},
   "outputs": [],
   "source": [
    "# Define the base models\n",
    "log_clf = LogisticRegression()\n",
    "rf_clf = RandomForestClassifier()\n",
    "svm_clf = SVC(probability=True)\n",
    "\n",
    "# Hard Voting Classifier (majority voting)\n",
    "voting_clf_hard = VotingClassifier(estimators=[('lr', log_clf), ('rf', rf_clf), ('svc', svm_clf)], voting='hard')\n",
    "\n",
    "# Soft Voting Classifier (average probability)\n",
    "voting_clf_soft = VotingClassifier(estimators=[('lr', log_clf), ('rf', rf_clf), ('svc', svm_clf)], voting='soft')\n"
   ]
  },
  {
   "cell_type": "code",
   "execution_count": 5,
   "metadata": {},
   "outputs": [],
   "source": [
    "# Bagging Classifier using Decision Tree\n",
    "bag_clf = BaggingClassifier(DecisionTreeClassifier(), n_estimators=100, random_state=42)\n",
    "\n",
    "# Gradient Boosting Classifier\n",
    "gb_clf = GradientBoostingClassifier(n_estimators=100, random_state=42)\n"
   ]
  },
  {
   "cell_type": "code",
   "execution_count": 12,
   "metadata": {},
   "outputs": [
    {
     "name": "stdout",
     "output_type": "stream",
     "text": [
      "Voting Classifier (Hard Voting) Accuracy on Iris: 1.0\n",
      "Voting Classifier (Soft Voting) Accuracy on Iris: 1.0\n",
      "Bagging Classifier Accuracy on Iris: 1.0\n",
      "Gradient Boosting Classifier Accuracy on Iris: 1.0\n"
     ]
    }
   ],
   "source": [
    "# Train and evaluate on Iris dataset\n",
    "voting_clf_hard.fit_transform(X_train_iris, y_train_iris)\n",
    "y_pred_iris = voting_clf_hard.predict(X_test_iris)\n",
    "print(\"Voting Classifier (Hard Voting) Accuracy on Iris:\", accuracy_score(y_test_iris, y_pred_iris))\n",
    "\n",
    "voting_clf_soft.fit_transform(X_train_iris, y_train_iris)\n",
    "y_pred_iris = voting_clf_soft.predict(X_test_iris)\n",
    "print(\"Voting Classifier (Soft Voting) Accuracy on Iris:\", accuracy_score(y_test_iris, y_pred_iris))\n",
    "\n",
    "bag_clf.fit(X_train_iris, y_train_iris)\n",
    "y_pred_iris = bag_clf.predict(X_test_iris)\n",
    "print(\"Bagging Classifier Accuracy on Iris:\", accuracy_score(y_test_iris, y_pred_iris))\n",
    "\n",
    "gb_clf.fit(X_train_iris, y_train_iris)\n",
    "y_pred_iris = gb_clf.predict(X_test_iris)\n",
    "print(\"Gradient Boosting Classifier Accuracy on Iris:\", accuracy_score(y_test_iris, y_pred_iris))\n"
   ]
  },
  {
   "cell_type": "code",
   "execution_count": 7,
   "metadata": {},
   "outputs": [
    {
     "name": "stderr",
     "output_type": "stream",
     "text": [
      "c:\\Users\\sbhar\\AppData\\Local\\Programs\\Python\\Python312\\Lib\\site-packages\\sklearn\\linear_model\\_logistic.py:469: ConvergenceWarning: lbfgs failed to converge (status=1):\n",
      "STOP: TOTAL NO. of ITERATIONS REACHED LIMIT.\n",
      "\n",
      "Increase the number of iterations (max_iter) or scale the data as shown in:\n",
      "    https://scikit-learn.org/stable/modules/preprocessing.html\n",
      "Please also refer to the documentation for alternative solver options:\n",
      "    https://scikit-learn.org/stable/modules/linear_model.html#logistic-regression\n",
      "  n_iter_i = _check_optimize_result(\n"
     ]
    },
    {
     "name": "stdout",
     "output_type": "stream",
     "text": [
      "Voting Classifier (Hard Voting) Accuracy on Wine: 0.6083333333333333\n"
     ]
    },
    {
     "name": "stderr",
     "output_type": "stream",
     "text": [
      "c:\\Users\\sbhar\\AppData\\Local\\Programs\\Python\\Python312\\Lib\\site-packages\\sklearn\\linear_model\\_logistic.py:469: ConvergenceWarning: lbfgs failed to converge (status=1):\n",
      "STOP: TOTAL NO. of ITERATIONS REACHED LIMIT.\n",
      "\n",
      "Increase the number of iterations (max_iter) or scale the data as shown in:\n",
      "    https://scikit-learn.org/stable/modules/preprocessing.html\n",
      "Please also refer to the documentation for alternative solver options:\n",
      "    https://scikit-learn.org/stable/modules/linear_model.html#logistic-regression\n",
      "  n_iter_i = _check_optimize_result(\n"
     ]
    },
    {
     "name": "stdout",
     "output_type": "stream",
     "text": [
      "Voting Classifier (Soft Voting) Accuracy on Wine: 0.6270833333333333\n",
      "Bagging Classifier Accuracy on Wine: 0.6416666666666667\n",
      "Gradient Boosting Classifier Accuracy on Wine: 0.63125\n"
     ]
    }
   ],
   "source": [
    "# Train and evaluate on Wine Quality dataset\n",
    "voting_clf_hard.fit(X_train_wine, y_train_wine)\n",
    "y_pred_wine = voting_clf_hard.predict(X_test_wine)\n",
    "print(\"Voting Classifier (Hard Voting) Accuracy on Wine:\", accuracy_score(y_test_wine, y_pred_wine))\n",
    "\n",
    "voting_clf_soft.fit(X_train_wine, y_train_wine)\n",
    "y_pred_wine = voting_clf_soft.predict(X_test_wine)\n",
    "print(\"Voting Classifier (Soft Voting) Accuracy on Wine:\", accuracy_score(y_test_wine, y_pred_wine))\n",
    "\n",
    "bag_clf.fit(X_train_wine, y_train_wine)\n",
    "y_pred_wine = bag_clf.predict(X_test_wine)\n",
    "print(\"Bagging Classifier Accuracy on Wine:\", accuracy_score(y_test_wine, y_pred_wine))\n",
    "\n",
    "gb_clf.fit(X_train_wine, y_train_wine)\n",
    "y_pred_wine = gb_clf.predict(X_test_wine)\n",
    "print(\"Gradient Boosting Classifier Accuracy on Wine:\", accuracy_score(y_test_wine, y_pred_wine))\n"
   ]
  },
  {
   "cell_type": "code",
   "execution_count": 14,
   "metadata": {},
   "outputs": [
    {
     "name": "stdout",
     "output_type": "stream",
     "text": [
      "Cross-Validation Results for Iris Dataset:\n",
      "Voting (Hard): 0.9733333333333334\n"
     ]
    },
    {
     "name": "stderr",
     "output_type": "stream",
     "text": [
      "c:\\Users\\sbhar\\AppData\\Local\\Programs\\Python\\Python312\\Lib\\site-packages\\sklearn\\linear_model\\_logistic.py:469: ConvergenceWarning: lbfgs failed to converge (status=1):\n",
      "STOP: TOTAL NO. of ITERATIONS REACHED LIMIT.\n",
      "\n",
      "Increase the number of iterations (max_iter) or scale the data as shown in:\n",
      "    https://scikit-learn.org/stable/modules/preprocessing.html\n",
      "Please also refer to the documentation for alternative solver options:\n",
      "    https://scikit-learn.org/stable/modules/linear_model.html#logistic-regression\n",
      "  n_iter_i = _check_optimize_result(\n"
     ]
    },
    {
     "name": "stdout",
     "output_type": "stream",
     "text": [
      "Voting (Soft): 0.9666666666666668\n",
      "Bagging: 0.9600000000000002\n",
      "Gradient Boosting: 0.9600000000000002\n"
     ]
    }
   ],
   "source": [
    "from sklearn.model_selection import cross_val_score,KFold\n",
    "kf=KFold(n_splits=5,shuffle=True,random_state=42)\n",
    "\n",
    "# Perform 5-fold cross-validation for Iris dataset\n",
    "print(\"Cross-Validation Results for Iris Dataset:\")\n",
    "\n",
    "cv_scores_hard_iris = cross_val_score(voting_clf_hard, X_iris, y_iris, cv=kf)\n",
    "print(\"Voting (Hard):\", cv_scores_hard_iris.mean())\n",
    "\n",
    "cv_scores_soft_iris = cross_val_score(voting_clf_soft, X_iris, y_iris, cv=5)\n",
    "print(\"Voting (Soft):\", cv_scores_soft_iris.mean())\n",
    "\n",
    "cv_scores_bag_iris = cross_val_score(bag_clf, X_iris, y_iris, cv=5)\n",
    "print(\"Bagging:\", cv_scores_bag_iris.mean())\n",
    "\n",
    "cv_scores_gb_iris = cross_val_score(gb_clf, X_iris, y_iris, cv=5)\n",
    "print(\"Gradient Boosting:\", cv_scores_gb_iris.mean())\n"
   ]
  },
  {
   "cell_type": "code",
   "execution_count": null,
   "metadata": {},
   "outputs": [
    {
     "name": "stdout",
     "output_type": "stream",
     "text": [
      "\n",
      "Cross-Validation Results for Wine Quality Dataset:\n"
     ]
    },
    {
     "name": "stderr",
     "output_type": "stream",
     "text": [
      "c:\\Users\\sbhar\\AppData\\Local\\Programs\\Python\\Python312\\Lib\\site-packages\\sklearn\\linear_model\\_logistic.py:469: ConvergenceWarning: lbfgs failed to converge (status=1):\n",
      "STOP: TOTAL NO. of ITERATIONS REACHED LIMIT.\n",
      "\n",
      "Increase the number of iterations (max_iter) or scale the data as shown in:\n",
      "    https://scikit-learn.org/stable/modules/preprocessing.html\n",
      "Please also refer to the documentation for alternative solver options:\n",
      "    https://scikit-learn.org/stable/modules/linear_model.html#logistic-regression\n",
      "  n_iter_i = _check_optimize_result(\n",
      "c:\\Users\\sbhar\\AppData\\Local\\Programs\\Python\\Python312\\Lib\\site-packages\\sklearn\\linear_model\\_logistic.py:469: ConvergenceWarning: lbfgs failed to converge (status=1):\n",
      "STOP: TOTAL NO. of ITERATIONS REACHED LIMIT.\n",
      "\n",
      "Increase the number of iterations (max_iter) or scale the data as shown in:\n",
      "    https://scikit-learn.org/stable/modules/preprocessing.html\n",
      "Please also refer to the documentation for alternative solver options:\n",
      "    https://scikit-learn.org/stable/modules/linear_model.html#logistic-regression\n",
      "  n_iter_i = _check_optimize_result(\n",
      "c:\\Users\\sbhar\\AppData\\Local\\Programs\\Python\\Python312\\Lib\\site-packages\\sklearn\\linear_model\\_logistic.py:469: ConvergenceWarning: lbfgs failed to converge (status=1):\n",
      "STOP: TOTAL NO. of ITERATIONS REACHED LIMIT.\n",
      "\n",
      "Increase the number of iterations (max_iter) or scale the data as shown in:\n",
      "    https://scikit-learn.org/stable/modules/preprocessing.html\n",
      "Please also refer to the documentation for alternative solver options:\n",
      "    https://scikit-learn.org/stable/modules/linear_model.html#logistic-regression\n",
      "  n_iter_i = _check_optimize_result(\n",
      "c:\\Users\\sbhar\\AppData\\Local\\Programs\\Python\\Python312\\Lib\\site-packages\\sklearn\\linear_model\\_logistic.py:469: ConvergenceWarning: lbfgs failed to converge (status=1):\n",
      "STOP: TOTAL NO. of ITERATIONS REACHED LIMIT.\n",
      "\n",
      "Increase the number of iterations (max_iter) or scale the data as shown in:\n",
      "    https://scikit-learn.org/stable/modules/preprocessing.html\n",
      "Please also refer to the documentation for alternative solver options:\n",
      "    https://scikit-learn.org/stable/modules/linear_model.html#logistic-regression\n",
      "  n_iter_i = _check_optimize_result(\n",
      "c:\\Users\\sbhar\\AppData\\Local\\Programs\\Python\\Python312\\Lib\\site-packages\\sklearn\\linear_model\\_logistic.py:469: ConvergenceWarning: lbfgs failed to converge (status=1):\n",
      "STOP: TOTAL NO. of ITERATIONS REACHED LIMIT.\n",
      "\n",
      "Increase the number of iterations (max_iter) or scale the data as shown in:\n",
      "    https://scikit-learn.org/stable/modules/preprocessing.html\n",
      "Please also refer to the documentation for alternative solver options:\n",
      "    https://scikit-learn.org/stable/modules/linear_model.html#logistic-regression\n",
      "  n_iter_i = _check_optimize_result(\n"
     ]
    },
    {
     "name": "stdout",
     "output_type": "stream",
     "text": [
      "Voting (Hard): 0.5578565830721003\n"
     ]
    },
    {
     "name": "stderr",
     "output_type": "stream",
     "text": [
      "c:\\Users\\sbhar\\AppData\\Local\\Programs\\Python\\Python312\\Lib\\site-packages\\sklearn\\linear_model\\_logistic.py:469: ConvergenceWarning: lbfgs failed to converge (status=1):\n",
      "STOP: TOTAL NO. of ITERATIONS REACHED LIMIT.\n",
      "\n",
      "Increase the number of iterations (max_iter) or scale the data as shown in:\n",
      "    https://scikit-learn.org/stable/modules/preprocessing.html\n",
      "Please also refer to the documentation for alternative solver options:\n",
      "    https://scikit-learn.org/stable/modules/linear_model.html#logistic-regression\n",
      "  n_iter_i = _check_optimize_result(\n",
      "c:\\Users\\sbhar\\AppData\\Local\\Programs\\Python\\Python312\\Lib\\site-packages\\sklearn\\linear_model\\_logistic.py:469: ConvergenceWarning: lbfgs failed to converge (status=1):\n",
      "STOP: TOTAL NO. of ITERATIONS REACHED LIMIT.\n",
      "\n",
      "Increase the number of iterations (max_iter) or scale the data as shown in:\n",
      "    https://scikit-learn.org/stable/modules/preprocessing.html\n",
      "Please also refer to the documentation for alternative solver options:\n",
      "    https://scikit-learn.org/stable/modules/linear_model.html#logistic-regression\n",
      "  n_iter_i = _check_optimize_result(\n",
      "c:\\Users\\sbhar\\AppData\\Local\\Programs\\Python\\Python312\\Lib\\site-packages\\sklearn\\linear_model\\_logistic.py:469: ConvergenceWarning: lbfgs failed to converge (status=1):\n",
      "STOP: TOTAL NO. of ITERATIONS REACHED LIMIT.\n",
      "\n",
      "Increase the number of iterations (max_iter) or scale the data as shown in:\n",
      "    https://scikit-learn.org/stable/modules/preprocessing.html\n",
      "Please also refer to the documentation for alternative solver options:\n",
      "    https://scikit-learn.org/stable/modules/linear_model.html#logistic-regression\n",
      "  n_iter_i = _check_optimize_result(\n",
      "c:\\Users\\sbhar\\AppData\\Local\\Programs\\Python\\Python312\\Lib\\site-packages\\sklearn\\linear_model\\_logistic.py:469: ConvergenceWarning: lbfgs failed to converge (status=1):\n",
      "STOP: TOTAL NO. of ITERATIONS REACHED LIMIT.\n",
      "\n",
      "Increase the number of iterations (max_iter) or scale the data as shown in:\n",
      "    https://scikit-learn.org/stable/modules/preprocessing.html\n",
      "Please also refer to the documentation for alternative solver options:\n",
      "    https://scikit-learn.org/stable/modules/linear_model.html#logistic-regression\n",
      "  n_iter_i = _check_optimize_result(\n",
      "c:\\Users\\sbhar\\AppData\\Local\\Programs\\Python\\Python312\\Lib\\site-packages\\sklearn\\linear_model\\_logistic.py:469: ConvergenceWarning: lbfgs failed to converge (status=1):\n",
      "STOP: TOTAL NO. of ITERATIONS REACHED LIMIT.\n",
      "\n",
      "Increase the number of iterations (max_iter) or scale the data as shown in:\n",
      "    https://scikit-learn.org/stable/modules/preprocessing.html\n",
      "Please also refer to the documentation for alternative solver options:\n",
      "    https://scikit-learn.org/stable/modules/linear_model.html#logistic-regression\n",
      "  n_iter_i = _check_optimize_result(\n"
     ]
    },
    {
     "name": "stdout",
     "output_type": "stream",
     "text": [
      "Voting (Soft): 0.5697296238244514\n",
      "Bagging: 0.5634874608150471\n",
      "Gradient Boosting: 0.5647198275862069\n"
     ]
    }
   ],
   "source": [
    "# Perform 5-fold cross-validation for Wine Quality dataset\n",
    "print(\"\\nCross-Validation Results for Wine Quality Dataset:\")\n",
    "\n",
    "cv_scores_hard_wine = cross_val_score(voting_clf_hard, X_wine, y_wine, cv=5)\n",
    "print(\"Voting (Hard):\", cv_scores_hard_wine.mean())\n",
    "\n",
    "cv_scores_soft_wine = cross_val_score(voting_clf_soft, X_wine, y_wine, cv=5)\n",
    "print(\"Voting (Soft):\", cv_scores_soft_wine.mean())\n",
    "\n",
    "cv_scores_bag_wine = cross_val_score(bag_clf, X_wine, y_wine, cv=5)\n",
    "print(\"Bagging:\", cv_scores_bag_wine.mean())\n",
    "\n",
    "cv_scores_gb_wine = cross_val_score(gb_clf, X_wine, y_wine, cv=5)\n",
    "print(\"Gradient Boosting:\", cv_scores_gb_wine.mean())\n"
   ]
  }
 ],
 "metadata": {
  "kernelspec": {
   "display_name": "Python 3",
   "language": "python",
   "name": "python3"
  },
  "language_info": {
   "codemirror_mode": {
    "name": "ipython",
    "version": 3
   },
   "file_extension": ".py",
   "mimetype": "text/x-python",
   "name": "python",
   "nbconvert_exporter": "python",
   "pygments_lexer": "ipython3",
   "version": "3.12.5"
  }
 },
 "nbformat": 4,
 "nbformat_minor": 2
}
