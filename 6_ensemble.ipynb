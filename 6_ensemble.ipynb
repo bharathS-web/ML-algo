{
 "cells": [
  {
   "cell_type": "markdown",
   "metadata": {},
   "source": [
    "ENSEMBLE CLASSIFIER MODELS"
   ]
  },
  {
   "cell_type": "code",
   "execution_count": 1,
   "metadata": {},
   "outputs": [],
   "source": [
    "from sklearn.datasets import load_iris\n",
    "import pandas as pd\n",
    "\n",
    "iris = load_iris()\n",
    "X_iris, y_iris = iris.data, iris.target\n",
    "\n",
    "wine_data = pd.read_csv(r\"datasets\\wine+quality\\winequality-white.csv\", delimiter=';').sample(200)\n",
    "\n",
    "X_wine = wine_data.drop('quality', axis=1)\n",
    "y_wine = wine_data['quality']\n"
   ]
  },
  {
   "cell_type": "code",
   "execution_count": 14,
   "metadata": {},
   "outputs": [],
   "source": [
    "from sklearn.model_selection import train_test_split\n",
    "\n",
    "X_train_iris, X_test_iris, y_train_iris, y_test_iris = train_test_split(X_iris, y_iris, test_size=0.3, random_state=42)\n",
    "\n",
    "X_train_wine, X_test_wine, y_train_wine, y_test_wine = train_test_split(X_wine, y_wine, test_size=0.3, random_state=42)\n"
   ]
  },
  {
   "cell_type": "code",
   "execution_count": 15,
   "metadata": {},
   "outputs": [
    {
     "name": "stderr",
     "output_type": "stream",
     "text": [
      "c:\\Users\\sbhar\\AppData\\Local\\Programs\\Python\\Python312\\Lib\\site-packages\\sklearn\\linear_model\\_logistic.py:469: ConvergenceWarning: lbfgs failed to converge (status=1):\n",
      "STOP: TOTAL NO. of ITERATIONS REACHED LIMIT.\n",
      "\n",
      "Increase the number of iterations (max_iter) or scale the data as shown in:\n",
      "    https://scikit-learn.org/stable/modules/preprocessing.html\n",
      "Please also refer to the documentation for alternative solver options:\n",
      "    https://scikit-learn.org/stable/modules/linear_model.html#logistic-regression\n",
      "  n_iter_i = _check_optimize_result(\n",
      "c:\\Users\\sbhar\\AppData\\Local\\Programs\\Python\\Python312\\Lib\\site-packages\\sklearn\\linear_model\\_logistic.py:469: ConvergenceWarning: lbfgs failed to converge (status=1):\n",
      "STOP: TOTAL NO. of ITERATIONS REACHED LIMIT.\n",
      "\n",
      "Increase the number of iterations (max_iter) or scale the data as shown in:\n",
      "    https://scikit-learn.org/stable/modules/preprocessing.html\n",
      "Please also refer to the documentation for alternative solver options:\n",
      "    https://scikit-learn.org/stable/modules/linear_model.html#logistic-regression\n",
      "  n_iter_i = _check_optimize_result(\n"
     ]
    },
    {
     "name": "stdout",
     "output_type": "stream",
     "text": [
      "Voting Classifier (Hard Voting) Accuracy on Iris: 1.0\n",
      "Voting Classifier (Hard Voting) Accuracy on Wine: 0.4666666666666667\n"
     ]
    }
   ],
   "source": [
    "from sklearn.ensemble import VotingClassifier\n",
    "from sklearn.linear_model import LogisticRegression\n",
    "from sklearn.ensemble import RandomForestClassifier\n",
    "from sklearn.svm import SVC\n",
    "from sklearn.metrics import accuracy_score\n",
    "\n",
    "log_clf = LogisticRegression(C=100,max_iter=100)\n",
    "rf_clf = RandomForestClassifier()\n",
    "svm_clf = SVC(probability=True)\n",
    "\n",
    "voting_clf_hard = VotingClassifier(estimators=[\n",
    "    ('lr', log_clf), ('rf', rf_clf), ('svc', svm_clf)], voting='hard')\n",
    "\n",
    "voting_clf_hard.fit(X_train_iris, y_train_iris)\n",
    "y_pred_iris = voting_clf_hard.predict(X_test_iris)\n",
    "print(\"Voting Classifier (Hard Voting) Accuracy on Iris:\", accuracy_score(y_test_iris, y_pred_iris))\n",
    "\n",
    "voting_clf_hard.fit(X_train_wine, y_train_wine)\n",
    "y_pred_wine = voting_clf_hard.predict(X_test_wine)\n",
    "print(\"Voting Classifier (Hard Voting) Accuracy on Wine:\", accuracy_score(y_test_wine, y_pred_wine))\n"
   ]
  },
  {
   "cell_type": "code",
   "execution_count": 4,
   "metadata": {},
   "outputs": [
    {
     "name": "stdout",
     "output_type": "stream",
     "text": [
      "Voting Classifier (Soft Voting) Accuracy on Iris: 1.0\n",
      "Voting Classifier (Soft Voting) Accuracy on Wine: 0.45\n"
     ]
    },
    {
     "name": "stderr",
     "output_type": "stream",
     "text": [
      "c:\\Users\\sbhar\\AppData\\Local\\Programs\\Python\\Python312\\Lib\\site-packages\\sklearn\\linear_model\\_logistic.py:469: ConvergenceWarning: lbfgs failed to converge (status=1):\n",
      "STOP: TOTAL NO. of f AND g EVALUATIONS EXCEEDS LIMIT.\n",
      "\n",
      "Increase the number of iterations (max_iter) or scale the data as shown in:\n",
      "    https://scikit-learn.org/stable/modules/preprocessing.html\n",
      "Please also refer to the documentation for alternative solver options:\n",
      "    https://scikit-learn.org/stable/modules/linear_model.html#logistic-regression\n",
      "  n_iter_i = _check_optimize_result(\n"
     ]
    }
   ],
   "source": [
    "# Soft Voting (average probability)\n",
    "voting_clf_soft = VotingClassifier(estimators=[\n",
    "    ('lr', log_clf), ('rf', rf_clf), ('svc', svm_clf)], voting='soft')\n",
    "\n",
    "voting_clf_soft.fit(X_train_iris, y_train_iris)\n",
    "y_pred_iris = voting_clf_soft.predict(X_test_iris)\n",
    "print(\"Voting Classifier (Soft Voting) Accuracy on Iris:\", accuracy_score(y_test_iris, y_pred_iris))\n",
    "\n",
    "voting_clf_soft.fit(X_train_wine, y_train_wine)\n",
    "y_pred_wine = voting_clf_soft.predict(X_test_wine)\n",
    "print(\"Voting Classifier (Soft Voting) Accuracy on Wine:\", accuracy_score(y_test_wine, y_pred_wine))\n"
   ]
  },
  {
   "cell_type": "markdown",
   "metadata": {},
   "source": [
    "Bagging Classifier"
   ]
  },
  {
   "cell_type": "code",
   "execution_count": 5,
   "metadata": {},
   "outputs": [
    {
     "name": "stdout",
     "output_type": "stream",
     "text": [
      "Bagging Classifier Accuracy on Iris: 1.0\n",
      "Bagging Classifier Accuracy on Wine: 0.35\n"
     ]
    }
   ],
   "source": [
    "from sklearn.ensemble import BaggingClassifier\n",
    "from sklearn.tree import DecisionTreeClassifier\n",
    "\n",
    "# Bagging Classifier using Decision Tree\n",
    "bag_clf = BaggingClassifier(DecisionTreeClassifier(), n_estimators=100, random_state=42)\n",
    "\n",
    "# Train and evaluate on Iris dataset\n",
    "bag_clf.fit(X_train_iris, y_train_iris)\n",
    "y_pred_iris = bag_clf.predict(X_test_iris)\n",
    "print(\"Bagging Classifier Accuracy on Iris:\", accuracy_score(y_test_iris, y_pred_iris))\n",
    "\n",
    "# Train and evaluate on Wine Quality dataset\n",
    "bag_clf.fit(X_train_wine, y_train_wine)\n",
    "y_pred_wine = bag_clf.predict(X_test_wine)\n",
    "print(\"Bagging Classifier Accuracy on Wine:\", accuracy_score(y_test_wine, y_pred_wine))\n"
   ]
  },
  {
   "cell_type": "markdown",
   "metadata": {},
   "source": [
    "Gradient Boosting Classifier"
   ]
  },
  {
   "cell_type": "code",
   "execution_count": 6,
   "metadata": {},
   "outputs": [
    {
     "name": "stdout",
     "output_type": "stream",
     "text": [
      "Gradient Boosting Classifier Accuracy on Iris: 1.0\n",
      "Gradient Boosting Classifier Accuracy on Wine: 0.36666666666666664\n"
     ]
    }
   ],
   "source": [
    "from sklearn.ensemble import GradientBoostingClassifier\n",
    "\n",
    "# Gradient Boosting Classifier\n",
    "gb_clf = GradientBoostingClassifier(n_estimators=100, random_state=42)\n",
    "\n",
    "# Train and evaluate on Iris dataset\n",
    "gb_clf.fit(X_train_iris, y_train_iris)\n",
    "y_pred_iris = gb_clf.predict(X_test_iris)\n",
    "print(\"Gradient Boosting Classifier Accuracy on Iris:\", accuracy_score(y_test_iris, y_pred_iris))\n",
    "\n",
    "# Train and evaluate on Wine Quality dataset\n",
    "gb_clf.fit(X_train_wine, y_train_wine)\n",
    "y_pred_wine = gb_clf.predict(X_test_wine)\n",
    "print(\"Gradient Boosting Classifier Accuracy on Wine:\", accuracy_score(y_test_wine, y_pred_wine))\n"
   ]
  },
  {
   "cell_type": "code",
   "execution_count": 8,
   "metadata": {},
   "outputs": [
    {
     "name": "stdout",
     "output_type": "stream",
     "text": [
      "Voting (Hard) on Wine: 0.43333333333333335\n",
      "Voting (Soft) on Wine: 0.45\n",
      "Bagging on Wine: 0.35\n",
      "Gradient Boosting on Wine: 0.36666666666666664\n"
     ]
    }
   ],
   "source": [
    "# print(\"Voting (Hard) on Iris:\", accuracy_score(y_test_iris, voting_clf_hard.predict(X_test_iris)))\n",
    "# print(\"Voting (Soft) on Iris:\", accuracy_score(y_test_iris, voting_clf_soft.predict(X_test_iris)))\n",
    "# print(\"Bagging on Iris:\", accuracy_score(y_test_iris, bag_clf.predict(X_test_iris)))\n",
    "# print(\"Gradient Boosting on Iris:\", accuracy_score(y_test_iris, gb_clf.predict(X_test_iris)))\n",
    "\n",
    "print(\"Voting (Hard) on Wine:\", accuracy_score(y_test_wine, voting_clf_hard.predict(X_test_wine)))\n",
    "print(\"Voting (Soft) on Wine:\", accuracy_score(y_test_wine, voting_clf_soft.predict(X_test_wine)))\n",
    "print(\"Bagging on Wine:\", accuracy_score(y_test_wine, bag_clf.predict(X_test_wine)))\n",
    "print(\"Gradient Boosting on Wine:\", accuracy_score(y_test_wine, gb_clf.predict(X_test_wine)))\n"
   ]
  }
 ],
 "metadata": {
  "kernelspec": {
   "display_name": "Python 3",
   "language": "python",
   "name": "python3"
  },
  "language_info": {
   "codemirror_mode": {
    "name": "ipython",
    "version": 3
   },
   "file_extension": ".py",
   "mimetype": "text/x-python",
   "name": "python",
   "nbconvert_exporter": "python",
   "pygments_lexer": "ipython3",
   "version": "3.12.5"
  }
 },
 "nbformat": 4,
 "nbformat_minor": 2
}
