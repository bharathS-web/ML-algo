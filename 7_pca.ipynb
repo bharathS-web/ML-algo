{
 "cells": [
  {
   "cell_type": "code",
   "execution_count": 1,
   "metadata": {},
   "outputs": [],
   "source": [
    "import pandas as pd\n",
    "from sklearn.preprocessing import StandardScaler\n",
    "\n",
    "# Load the Abalone dataset\n",
    "abalone_data = pd.read_csv(r'datasets\\adalone.csv', sep=',')\n",
    "\n",
    "# Preprocessing Abalone dataset: Encode 'Sex' categorical feature and normalize data\n",
    "abalone_data['Sex'] = abalone_data['Sex'].map({'M': 0, 'F': 1, 'I': 2})  # Encoding categorical data\n",
    "X_abalone = abalone_data.drop('Rings', axis=1)  # Features\n",
    "y_abalone = abalone_data['Rings']  # Target\n"
   ]
  },
  {
   "cell_type": "code",
   "execution_count": 4,
   "metadata": {},
   "outputs": [
    {
     "data": {
      "text/html": [
       "<div>\n",
       "<style scoped>\n",
       "    .dataframe tbody tr th:only-of-type {\n",
       "        vertical-align: middle;\n",
       "    }\n",
       "\n",
       "    .dataframe tbody tr th {\n",
       "        vertical-align: top;\n",
       "    }\n",
       "\n",
       "    .dataframe thead th {\n",
       "        text-align: right;\n",
       "    }\n",
       "</style>\n",
       "<table border=\"1\" class=\"dataframe\">\n",
       "  <thead>\n",
       "    <tr style=\"text-align: right;\">\n",
       "      <th></th>\n",
       "      <th>Sex</th>\n",
       "      <th>Length</th>\n",
       "      <th>Diameter</th>\n",
       "      <th>Height</th>\n",
       "      <th>Whole_weight</th>\n",
       "      <th>Shucked_weight</th>\n",
       "      <th>Viscera_weight</th>\n",
       "      <th>Shell_weight</th>\n",
       "      <th>Rings</th>\n",
       "    </tr>\n",
       "  </thead>\n",
       "  <tbody>\n",
       "    <tr>\n",
       "      <th>0</th>\n",
       "      <td>0</td>\n",
       "      <td>0.455</td>\n",
       "      <td>0.365</td>\n",
       "      <td>0.095</td>\n",
       "      <td>0.5140</td>\n",
       "      <td>0.2245</td>\n",
       "      <td>0.1010</td>\n",
       "      <td>0.150</td>\n",
       "      <td>15</td>\n",
       "    </tr>\n",
       "    <tr>\n",
       "      <th>1</th>\n",
       "      <td>0</td>\n",
       "      <td>0.350</td>\n",
       "      <td>0.265</td>\n",
       "      <td>0.090</td>\n",
       "      <td>0.2255</td>\n",
       "      <td>0.0995</td>\n",
       "      <td>0.0485</td>\n",
       "      <td>0.070</td>\n",
       "      <td>7</td>\n",
       "    </tr>\n",
       "    <tr>\n",
       "      <th>2</th>\n",
       "      <td>1</td>\n",
       "      <td>0.530</td>\n",
       "      <td>0.420</td>\n",
       "      <td>0.135</td>\n",
       "      <td>0.6770</td>\n",
       "      <td>0.2565</td>\n",
       "      <td>0.1415</td>\n",
       "      <td>0.210</td>\n",
       "      <td>9</td>\n",
       "    </tr>\n",
       "    <tr>\n",
       "      <th>3</th>\n",
       "      <td>0</td>\n",
       "      <td>0.440</td>\n",
       "      <td>0.365</td>\n",
       "      <td>0.125</td>\n",
       "      <td>0.5160</td>\n",
       "      <td>0.2155</td>\n",
       "      <td>0.1140</td>\n",
       "      <td>0.155</td>\n",
       "      <td>10</td>\n",
       "    </tr>\n",
       "    <tr>\n",
       "      <th>4</th>\n",
       "      <td>2</td>\n",
       "      <td>0.330</td>\n",
       "      <td>0.255</td>\n",
       "      <td>0.080</td>\n",
       "      <td>0.2050</td>\n",
       "      <td>0.0895</td>\n",
       "      <td>0.0395</td>\n",
       "      <td>0.055</td>\n",
       "      <td>7</td>\n",
       "    </tr>\n",
       "  </tbody>\n",
       "</table>\n",
       "</div>"
      ],
      "text/plain": [
       "   Sex  Length  Diameter  Height  Whole_weight  Shucked_weight  \\\n",
       "0    0   0.455     0.365   0.095        0.5140          0.2245   \n",
       "1    0   0.350     0.265   0.090        0.2255          0.0995   \n",
       "2    1   0.530     0.420   0.135        0.6770          0.2565   \n",
       "3    0   0.440     0.365   0.125        0.5160          0.2155   \n",
       "4    2   0.330     0.255   0.080        0.2050          0.0895   \n",
       "\n",
       "   Viscera_weight  Shell_weight  Rings  \n",
       "0          0.1010         0.150     15  \n",
       "1          0.0485         0.070      7  \n",
       "2          0.1415         0.210      9  \n",
       "3          0.1140         0.155     10  \n",
       "4          0.0395         0.055      7  "
      ]
     },
     "execution_count": 4,
     "metadata": {},
     "output_type": "execute_result"
    }
   ],
   "source": [
    "abalone_data.head()"
   ]
  },
  {
   "cell_type": "code",
   "execution_count": 13,
   "metadata": {},
   "outputs": [],
   "source": [
    "scaler = StandardScaler()\n",
    "X_abalone_scaled = scaler.fit_transform(X_abalone)"
   ]
  },
  {
   "cell_type": "code",
   "execution_count": 11,
   "metadata": {},
   "outputs": [],
   "source": [
    "from sklearn.datasets import load_breast_cancer\n",
    "data = load_breast_cancer()\n",
    "X_cancer = data.data\n",
    "y_cancer = data.target"
   ]
  },
  {
   "cell_type": "code",
   "execution_count": 14,
   "metadata": {},
   "outputs": [],
   "source": [
    "# Normalize the Breast Cancer data\n",
    "X_cancer_scaled = scaler.fit_transform(X_cancer)"
   ]
  },
  {
   "cell_type": "code",
   "execution_count": 15,
   "metadata": {},
   "outputs": [],
   "source": [
    "from sklearn.decomposition import PCA\n",
    "\n",
    "# PCA for Abalone dataset\n",
    "pca_abalone = PCA()\n",
    "X_abalone_pca = pca_abalone.fit_transform(X_abalone_scaled)\n",
    "\n",
    "# Reduce Abalone data to 4 components\n",
    "pca_abalone_4 = PCA(n_components=4)\n",
    "X_abalone_pca_4 = pca_abalone_4.fit_transform(X_abalone_scaled)\n",
    "\n",
    "# PCA for Breast Cancer dataset\n",
    "pca_cancer = PCA()\n",
    "X_cancer_pca = pca_cancer.fit_transform(X_cancer_scaled)\n",
    "\n",
    "# Reduce Breast Cancer data to 20 and 10 components\n",
    "pca_cancer_20 = PCA(n_components=20)\n",
    "X_cancer_pca_20 = pca_cancer_20.fit_transform(X_cancer_scaled)\n",
    "\n",
    "pca_cancer_10 = PCA(n_components=10)\n",
    "X_cancer_pca_10 = pca_cancer_10.fit_transform(X_cancer_scaled)"
   ]
  },
  {
   "cell_type": "code",
   "execution_count": 16,
   "metadata": {},
   "outputs": [],
   "source": [
    "from sklearn.svm import SVC\n",
    "from sklearn.model_selection import cross_val_score\n",
    "\n",
    "# SVM on original Abalone data\n",
    "svm_abalone = SVC(kernel='linear')"
   ]
  },
  {
   "cell_type": "code",
   "execution_count": 17,
   "metadata": {},
   "outputs": [
    {
     "name": "stderr",
     "output_type": "stream",
     "text": [
      "c:\\Users\\sbhar\\AppData\\Local\\Programs\\Python\\Python312\\Lib\\site-packages\\sklearn\\model_selection\\_split.py:776: UserWarning: The least populated class in y has only 1 members, which is less than n_splits=10.\n",
      "  warnings.warn(\n"
     ]
    },
    {
     "name": "stdout",
     "output_type": "stream",
     "text": [
      "SVM Accuracy on Original Abalone Data: 0.25760559016901313\n"
     ]
    },
    {
     "name": "stderr",
     "output_type": "stream",
     "text": [
      "c:\\Users\\sbhar\\AppData\\Local\\Programs\\Python\\Python312\\Lib\\site-packages\\sklearn\\model_selection\\_split.py:776: UserWarning: The least populated class in y has only 1 members, which is less than n_splits=10.\n",
      "  warnings.warn(\n"
     ]
    },
    {
     "name": "stdout",
     "output_type": "stream",
     "text": [
      "SVM Accuracy on PCA (all components) Abalone Data: 0.25760559016901313\n"
     ]
    },
    {
     "name": "stderr",
     "output_type": "stream",
     "text": [
      "c:\\Users\\sbhar\\AppData\\Local\\Programs\\Python\\Python312\\Lib\\site-packages\\sklearn\\model_selection\\_split.py:776: UserWarning: The least populated class in y has only 1 members, which is less than n_splits=10.\n",
      "  warnings.warn(\n"
     ]
    },
    {
     "name": "stdout",
     "output_type": "stream",
     "text": [
      "SVM Accuracy on PCA (4 components) Abalone Data: 0.24301114132617352\n",
      "SVM Accuracy on Original Breast Cancer Data: 0.9753759398496239\n",
      "SVM Accuracy on PCA (all components) Breast Cancer Data: 0.9753759398496239\n",
      "SVM Accuracy on PCA (20 components) Breast Cancer Data: 0.9771303258145363\n",
      "SVM Accuracy on PCA (10 components) Breast Cancer Data: 0.9753759398496239\n"
     ]
    }
   ],
   "source": [
    "scores_abalone = cross_val_score(svm_abalone, X_abalone_scaled, y_abalone, cv=10)\n",
    "print(\"SVM Accuracy on Original Abalone Data:\", scores_abalone.mean())\n",
    "\n",
    "# SVM on PCA-transformed Abalone data (all components)\n",
    "scores_abalone_pca = cross_val_score(svm_abalone, X_abalone_pca, y_abalone, cv=10)\n",
    "print(\"SVM Accuracy on PCA (all components) Abalone Data:\", scores_abalone_pca.mean())\n",
    "\n",
    "# SVM on PCA-transformed Abalone data (4 components)\n",
    "scores_abalone_pca_4 = cross_val_score(svm_abalone, X_abalone_pca_4, y_abalone, cv=10)\n",
    "print(\"SVM Accuracy on PCA (4 components) Abalone Data:\", scores_abalone_pca_4.mean())\n",
    "\n",
    "# SVM on original Breast Cancer data\n",
    "svm_cancer = SVC(kernel='linear')\n",
    "scores_cancer = cross_val_score(svm_cancer, X_cancer_scaled, y_cancer, cv=10)\n",
    "print(\"SVM Accuracy on Original Breast Cancer Data:\", scores_cancer.mean())\n",
    "\n",
    "# SVM on PCA-transformed Breast Cancer data (all components)\n",
    "scores_cancer_pca = cross_val_score(svm_cancer, X_cancer_pca, y_cancer, cv=10)\n",
    "print(\"SVM Accuracy on PCA (all components) Breast Cancer Data:\", scores_cancer_pca.mean())\n",
    "\n",
    "# SVM on PCA-transformed Breast Cancer data (20 components)\n",
    "scores_cancer_pca_20 = cross_val_score(svm_cancer, X_cancer_pca_20, y_cancer, cv=10)\n",
    "print(\"SVM Accuracy on PCA (20 components) Breast Cancer Data:\", scores_cancer_pca_20.mean())\n",
    "\n",
    "# SVM on PCA-transformed Breast Cancer data (10 components)\n",
    "scores_cancer_pca_10 = cross_val_score(svm_cancer, X_cancer_pca_10, y_cancer, cv=10)\n",
    "print(\"SVM Accuracy on PCA (10 components) Breast Cancer Data:\", scores_cancer_pca_10.mean())"
   ]
  }
 ],
 "metadata": {
  "kernelspec": {
   "display_name": "Python 3",
   "language": "python",
   "name": "python3"
  },
  "language_info": {
   "codemirror_mode": {
    "name": "ipython",
    "version": 3
   },
   "file_extension": ".py",
   "mimetype": "text/x-python",
   "name": "python",
   "nbconvert_exporter": "python",
   "pygments_lexer": "ipython3",
   "version": "3.12.5"
  }
 },
 "nbformat": 4,
 "nbformat_minor": 2
}
