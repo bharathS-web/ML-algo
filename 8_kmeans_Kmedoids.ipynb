{
 "cells": [
  {
   "cell_type": "markdown",
   "metadata": {},
   "source": [
    "Kmeans from Scratch"
   ]
  },
  {
   "cell_type": "code",
   "execution_count": 1,
   "metadata": {},
   "outputs": [],
   "source": [
    "datapoints=[(1,2),(2,6),(12,10),(3,10),(3,8),(14,9),(4,6),(15,10),(6,9),(6,11),(7,5),(15,4),(7,2),(15,18),(4,7)]"
   ]
  },
  {
   "cell_type": "code",
   "execution_count": 2,
   "metadata": {},
   "outputs": [],
   "source": [
    "from math import sqrt\n",
    "def dist(a,b):\n",
    "    return round( sqrt( (a[0]-b[0])**2 + (a[1]-b[1])**2) , 2 )"
   ]
  },
  {
   "cell_type": "code",
   "execution_count": null,
   "metadata": {},
   "outputs": [],
   "source": [
    "def avg(li = [(1,2),(1,2)]):\n",
    "    x,y=0,0\n",
    "    for i in li:\n",
    "        x+=i[0]\n",
    "        y+=i[1]\n",
    "    x= round(x/len(li),2)\n",
    "    y= round(y/len(li),2)\n",
    "    # y=y/len(li)\n",
    "    return (x,y)\n",
    "avg([(1,2),(1,2)])"
   ]
  },
  {
   "cell_type": "code",
   "execution_count": null,
   "metadata": {},
   "outputs": [],
   "source": [
    "def assign_cluster(points,initial_clusters):\n",
    "    centrids = initial_clusters\n",
    "    count=0\n",
    "    while True :\n",
    "        clusters=[[] for _ in initial_clusters]\n",
    "        for point in points:\n",
    "            d=[]\n",
    "            for c in centrids:\n",
    "                d.append(dist(point,c))\n",
    "            idx = d.index(min(d))\n",
    "            clusters[idx].append(point)\n",
    "\n",
    "        new_centroid =[]\n",
    "        for c in clusters:\n",
    "            new_centroid.append(avg(c))\n",
    "        \n",
    "        print(centrids,new_centroid)\n",
    "        if new_centroid==centrids:\n",
    "            break\n",
    "        if count>1000:\n",
    "            break\n",
    "\n",
    "        centrids=new_centroid\n",
    "        count+=1\n",
    "\n",
    "\n",
    "    return clusters,centrids\n",
    "            \n",
    "        \n",
    "clusters,centroids=assign_cluster(datapoints,[(1,2),(2,6),(12,10)])"
   ]
  },
  {
   "cell_type": "code",
   "execution_count": null,
   "metadata": {},
   "outputs": [],
   "source": [
    "import matplotlib.pyplot as plt\n",
    "\n",
    "x = [point[0] for point in datapoints]\n",
    "y = [point[1] for point in datapoints]\n",
    "labels = ['A', 'B', 'C', 'D', 'E', 'F', 'H', 'I', 'J', 'K', 'L', 'M', 'N', 'O', 'P']\n",
    "\n",
    "x_ = [point[0] for point in centroids]\n",
    "y_ = [point[1] for point in centroids]\n",
    "\n",
    "plt.figure(figsize=(10, 6))\n",
    "\n",
    "plt.scatter(x, y, color='blue')\n",
    "\n",
    "plt.scatter(x_, y_, color='red')\n",
    "\n",
    "for (x_val, y_val),label in zip(datapoints,labels):\n",
    "    plt.text(x_val, y_val, label,fontsize=12, ha='right')\n",
    "for (x_val, y_val),label in zip(centroids,['C1','C2','C3']):\n",
    "    plt.text(x_val, y_val, label,fontsize=12, ha='right')\n",
    "\n",
    "plt.xlabel('X-axis')\n",
    "plt.ylabel('Y-axis')\n",
    "plt.title('Scatter Plot of Data Points')\n",
    "\n",
    "plt.grid(True)\n",
    "plt.show()"
   ]
  },
  {
   "cell_type": "code",
   "execution_count": 6,
   "metadata": {},
   "outputs": [],
   "source": [
    "def dist_to_cent(centroid,cluster):\n",
    "    tot_dist=0\n",
    "    for c in cluster:\n",
    "        tot_dist+=dist(centroid,c)\n",
    "    \n",
    "    return round(tot_dist/len(cluster),2)\n"
   ]
  },
  {
   "cell_type": "code",
   "execution_count": null,
   "metadata": {},
   "outputs": [],
   "source": [
    "def within_clust_dist(clusters,centroids):\n",
    "    distance=0\n",
    "    for centroid,cluster  in zip(centroids,clusters):\n",
    "        distance+=dist_to_cent(centroid,cluster)\n",
    "\n",
    "    return distance\n",
    "\n",
    "within_clust_dist(clusters,centroids)\n"
   ]
  },
  {
   "cell_type": "markdown",
   "metadata": {},
   "source": [
    "Kmeans using sklearn"
   ]
  },
  {
   "cell_type": "code",
   "execution_count": 12,
   "metadata": {},
   "outputs": [],
   "source": [
    "from sklearn.datasets import load_iris\n",
    "from sklearn.cluster import KMeans\n",
    "from sklearn.metrics import accuracy_score\n",
    "from sklearn.preprocessing import LabelEncoder\n",
    "\n",
    "\n",
    "iris = load_iris()\n",
    "X = iris.data\n",
    "y = iris.target\n"
   ]
  },
  {
   "cell_type": "code",
   "execution_count": null,
   "metadata": {},
   "outputs": [],
   "source": [
    "kmeans = KMeans(n_clusters=3, init='k-means++', random_state=42)\n",
    "kmeans.fit(X)\n",
    "\n",
    "predicted_clusters = kmeans.labels_\n"
   ]
  },
  {
   "cell_type": "code",
   "execution_count": null,
   "metadata": {},
   "outputs": [],
   "source": [
    "wcss = kmeans.inertia_\n",
    "print(f\"Within-Cluster Sum of Squares (WCSS): {wcss}\")\n"
   ]
  },
  {
   "cell_type": "code",
   "execution_count": null,
   "metadata": {},
   "outputs": [],
   "source": [
    "label_encoder = LabelEncoder()\n",
    "mapped_clusters = label_encoder.fit_transform(kmeans.labels_)\n",
    "\n",
    "accuracy = accuracy_score(y, mapped_clusters)\n",
    "print(f\"Accuracy: {accuracy}\")\n"
   ]
  },
  {
   "cell_type": "markdown",
   "metadata": {},
   "source": [
    "Kmedoids from scratch"
   ]
  },
  {
   "cell_type": "code",
   "execution_count": null,
   "metadata": {},
   "outputs": [],
   "source": [
    "def kmedoids(data,medoids):\n",
    "    clusters = [[] for _ in medoids ]\n",
    "\n",
    "    for point in data:\n",
    "        d=[]\n",
    "        for med in medoids:\n",
    "            d.append(dist(point,med))\n",
    "        idx=d.index(min(d))\n",
    "        clusters[idx].append(point)\n",
    "    return clusters\n",
    "\n",
    "c1=kmedoids(datapoints,[(12,10),(7,2),(4,7)])\n",
    "c2 =kmedoids(datapoints,[(12,10),(7,2),(4,6)])\n",
    "\n",
    "c1,c2"
   ]
  },
  {
   "cell_type": "code",
   "execution_count": null,
   "metadata": {},
   "outputs": [],
   "source": [
    "def calc_cost(clusters,medoids):\n",
    "    cost=0\n",
    "    for med,cluster in zip(medoids,clusters):\n",
    "        for c in cluster:\n",
    "            cost+= dist(med,c)\n",
    "    return cost\n",
    "cost1=calc_cost(c1,[(12,10),(7,2),(4,7)])\n",
    "cost2=calc_cost(c2,[(12,10),(7,2),(4,6)])\n",
    "\n",
    "cost1,cost2"
   ]
  },
  {
   "cell_type": "code",
   "execution_count": null,
   "metadata": {},
   "outputs": [],
   "source": [
    "if cost1<cost2:\n",
    "    print(\"cnp best\")\n",
    "else:\n",
    "    print(\"cng best\")"
   ]
  }
 ],
 "metadata": {
  "kernelspec": {
   "display_name": "Python 3",
   "language": "python",
   "name": "python3"
  },
  "language_info": {
   "codemirror_mode": {
    "name": "ipython",
    "version": 3
   },
   "file_extension": ".py",
   "mimetype": "text/x-python",
   "name": "python",
   "nbconvert_exporter": "python",
   "pygments_lexer": "ipython3",
   "version": "3.12.5"
  }
 },
 "nbformat": 4,
 "nbformat_minor": 2
}
